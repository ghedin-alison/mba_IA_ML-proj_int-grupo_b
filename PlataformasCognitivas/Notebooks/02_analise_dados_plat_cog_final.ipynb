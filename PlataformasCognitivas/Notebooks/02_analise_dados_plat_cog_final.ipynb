{
  "nbformat": 4,
  "nbformat_minor": 0,
  "metadata": {
    "colab": {
      "provenance": []
    },
    "kernelspec": {
      "name": "python3",
      "display_name": "Python 3"
    },
    "language_info": {
      "name": "python"
    }
  },
  "cells": [
    {
      "cell_type": "markdown",
      "source": [
        "### Decrição do problema\n",
        "\n",
        "A Dim Dim obtêm uma de suas receitas a partir de empréstimos. Mas muitas vezes o emprestimo está associado a um risco. \n",
        "\n",
        "O solicitante pode inadimplir o empréstimo e gerar prejuízo. Para mitigar esse problema, foi solicitado o uso de Machine Learning que pretende reduzir os impactos financeiros a partir de empréstimos.\n",
        "\n",
        "## Dicinário dos dados\n",
        "\n",
        "* ID = ID do cliente do requerente\n",
        "* year = Ano de aplicação\n",
        "* loan limit = montante máximo disponível do empréstimo que pode ser tomado\n",
        "* Gender = tipo de sexo\n",
        "* approv_in_adv = O empréstimo é pré-aprovado ou não\n",
        "* loan_type = Tipo de empréstimo\n",
        "* loan_purpose = a razão pela qual você quer pedir dinheiro emprestado\n",
        "* Credit_Worthiness = Como um credor determina que você será inadimplente em suas obrigações de dívida ou como você merece receber um novo crédito.\n",
        "* open_credit = É um empréstimo pré-aprovado entre um credor e um mutuário. Ele permite que o mutuário faça saques repetidos até um certo limite.\n",
        "* business_or_commercial = Tipo de uso do valor do empréstimo\n",
        "* loan_amount = O valor exato do empréstimo\n",
        "* rate_of_interest = É o valor que um credor cobra de um mutuário e é uma porcentagem do principal - o valor emprestado.\n",
        "* Interest_rate_spread = A diferença entre a taxa de juros que uma instituição financeira paga aos depositantes e a taxa de juros que recebe de empréstimos\n",
        "* Upfront_charges = Taxa paga a um credor por um mutuário como contrapartida por fazer um novo empréstimo\n",
        "* term = O período de amortização do empréstimo\n",
        "* Neg_ammortization = Refere-se a uma situação em que um tomador de empréstimo faz um pagamento menor do que a parcela padrão definida pelo banco.\n",
        "* interest_only = Quantidade de juros apenas sem princípios\n",
        "* lump_sum_payment = É uma quantia de dinheiro que é paga em um único pagamento em vez de ser em parcelas.\n",
        "* property_value = o valor presente dos benefícios futuros decorrentes da propriedade\n",
        "* construction_type = Tipo de construção colateral\n",
        "* occupancy_type = Classificações referem-se a estruturas de categorização com base em seu uso\n",
        "* Secured_by = Tipo de Garantia segura\n",
        "* total_units = número de unidades\n",
        "* income = Refere-se à quantidade de dinheiro, propriedade e outras transferências de valor recebidas durante um determinado período de tempo\n",
        "* credit_type = Tipo de crédito\n",
        "* co-applicant_credit_type = É uma pessoa adicional envolvida no processo de solicitação de empréstimo. Tanto o requerente quanto o co-requerente solicitam e assinam o empréstimo\n",
        "* age = idade do requerente\n",
        "* submission_of_application = Verifica se a aplicação está completa ou não\n",
        "* LTV = o valor do tempo de vida é um prognóstico do lucro líquido\n",
        "* Region = Local do requerente\n",
        "* Security_Type = Tipo de Garantia\n",
        "* status = Status do empréstimo (aprovado/recusado)\n",
        "* dtir1 = Relação dívida/renda"
      ],
      "metadata": {
        "id": "LeLHAdYa3_cj"
      }
    },
    {
      "cell_type": "code",
      "source": [
        "!pip install pyjanitor==0.23.1"
      ],
      "metadata": {
        "colab": {
          "base_uri": "https://localhost:8080/"
        },
        "id": "oNzRUIX6EUsx",
        "outputId": "7db92f87-0549-445c-bda4-3296f20f4420"
      },
      "execution_count": 1,
      "outputs": [
        {
          "output_type": "stream",
          "name": "stdout",
          "text": [
            "Looking in indexes: https://pypi.org/simple, https://us-python.pkg.dev/colab-wheels/public/simple/\n",
            "Requirement already satisfied: pyjanitor==0.23.1 in /usr/local/lib/python3.8/dist-packages (0.23.1)\n",
            "Requirement already satisfied: multipledispatch in /usr/local/lib/python3.8/dist-packages (from pyjanitor==0.23.1) (0.6.0)\n",
            "Requirement already satisfied: pandas-flavor in /usr/local/lib/python3.8/dist-packages (from pyjanitor==0.23.1) (0.3.0)\n",
            "Requirement already satisfied: scipy in /usr/local/lib/python3.8/dist-packages (from pyjanitor==0.23.1) (1.7.3)\n",
            "Requirement already satisfied: natsort in /usr/local/lib/python3.8/dist-packages (from pyjanitor==0.23.1) (5.5.0)\n",
            "Requirement already satisfied: six in /usr/local/lib/python3.8/dist-packages (from multipledispatch->pyjanitor==0.23.1) (1.15.0)\n",
            "Requirement already satisfied: pandas>=0.23 in /usr/local/lib/python3.8/dist-packages (from pandas-flavor->pyjanitor==0.23.1) (1.3.5)\n",
            "Requirement already satisfied: xarray in /usr/local/lib/python3.8/dist-packages (from pandas-flavor->pyjanitor==0.23.1) (0.20.2)\n",
            "Requirement already satisfied: lazy-loader==0.1rc2 in /usr/local/lib/python3.8/dist-packages (from pandas-flavor->pyjanitor==0.23.1) (0.1rc2)\n",
            "Requirement already satisfied: numpy>=1.17.3 in /usr/local/lib/python3.8/dist-packages (from pandas>=0.23->pandas-flavor->pyjanitor==0.23.1) (1.21.6)\n",
            "Requirement already satisfied: pytz>=2017.3 in /usr/local/lib/python3.8/dist-packages (from pandas>=0.23->pandas-flavor->pyjanitor==0.23.1) (2022.6)\n",
            "Requirement already satisfied: python-dateutil>=2.7.3 in /usr/local/lib/python3.8/dist-packages (from pandas>=0.23->pandas-flavor->pyjanitor==0.23.1) (2.8.2)\n"
          ]
        }
      ]
    },
    {
      "cell_type": "code",
      "source": [
        "#@title Autenticação GCP\n",
        "from google.colab import auth\n",
        "auth.authenticate_user()\n",
        "print('Authenticated')"
      ],
      "metadata": {
        "colab": {
          "base_uri": "https://localhost:8080/"
        },
        "id": "1VxMhfRZ76BV",
        "outputId": "073fb1c4-effa-42b5-d43b-12f0437f3d18"
      },
      "execution_count": 2,
      "outputs": [
        {
          "output_type": "stream",
          "name": "stdout",
          "text": [
            "Authenticated\n"
          ]
        }
      ]
    },
    {
      "cell_type": "code",
      "execution_count": 3,
      "metadata": {
        "id": "_X2raeIB30Cf"
      },
      "outputs": [],
      "source": [
        "#@title Importação das bibliotecas\n",
        "import numpy as np\n",
        "import pandas as pd\n",
        "import matplotlib.pyplot as plt\n",
        "import seaborn as sns\n",
        "import os\n",
        "from sklearn.model_selection import train_test_split\n",
        "from sklearn.preprocessing import StandardScaler\n",
        "from imblearn.under_sampling import RandomUnderSampler\n",
        "from imblearn.over_sampling import SMOTE\n",
        "from google.cloud import bigquery\n",
        "from google.colab import auth\n",
        "from google.cloud import bigquery\n",
        "from google.colab import data_table\n",
        "from sklearn.impute import SimpleImputer\n",
        "from sklearn.tree import DecisionTreeClassifier\n",
        "from sklearn.metrics import accuracy_score\n",
        "from sklearn.metrics import classification_report\n",
        "from sklearn.metrics import confusion_matrix"
      ]
    },
    {
      "cell_type": "code",
      "source": [
        "#@title Tamanho da figura \n",
        "sns.set(rc={'figure.figsize': [10, 10]}, font_scale=1.3)"
      ],
      "metadata": {
        "id": "tqtrIT4-5kji"
      },
      "execution_count": 4,
      "outputs": []
    },
    {
      "cell_type": "code",
      "source": [
        "#@title Id do projeto e localização dos dados.\n",
        "PROJECT = 'fiap2-368122' #@param {type:\"string\"}\n",
        "LOCATION = 'US' #@param {type:\"string\"}"
      ],
      "metadata": {
        "id": "lcgk6Q-_9mp9"
      },
      "execution_count": 5,
      "outputs": []
    },
    {
      "cell_type": "code",
      "source": [
        "#@title Configuração para leitura dos dados\n",
        "client = bigquery.Client(project=PROJECT, location=LOCATION)\n",
        "data_table.enable_dataframe_formatter()\n",
        "auth.authenticate_user()"
      ],
      "metadata": {
        "id": "CpZPMYvf96SI"
      },
      "execution_count": 6,
      "outputs": []
    },
    {
      "cell_type": "markdown",
      "source": [
        "## ID do Job no bigquery\n",
        "\n",
        "Para obter esses dados você precisa obter o id de execução desta maneira:\n",
        "\n",
        "![Screenshot 2022-12-12 at 21.55.33.png](data:image/png;base64,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)"
      ],
      "metadata": {
        "id": "30sGSkXY-U8k"
      }
    },
    {
      "cell_type": "code",
      "source": [
        "#Inserir o id do job como parâmetro\n",
        "JOBID = 'bquxjob_291eb4a5_185120040ba' #@param {type:\"string\"}"
      ],
      "metadata": {
        "id": "cr1uq9aT-SoO"
      },
      "execution_count": 7,
      "outputs": []
    },
    {
      "cell_type": "code",
      "source": [
        "job = client.get_job(JOBID)\n",
        "job.query"
      ],
      "metadata": {
        "colab": {
          "base_uri": "https://localhost:8080/",
          "height": 35
        },
        "id": "wVLYnfFx_UqG",
        "outputId": "3b02beb3-23df-4c4e-cc3f-1908d494e3e3"
      },
      "execution_count": 8,
      "outputs": [
        {
          "output_type": "execute_result",
          "data": {
            "text/plain": [
              "'SELECT * FROM `fiap2-368122.analise_credito.analise_credito`'"
            ],
            "application/vnd.google.colaboratory.intrinsic+json": {
              "type": "string"
            }
          },
          "metadata": {},
          "execution_count": 8
        }
      ]
    },
    {
      "cell_type": "code",
      "source": [
        "job = client.get_job(JOBID)\n",
        "result = job.to_dataframe()"
      ],
      "metadata": {
        "id": "EXgr9EkQ_Itm"
      },
      "execution_count": 9,
      "outputs": []
    },
    {
      "cell_type": "markdown",
      "source": [
        "### Outra forma de uso\n",
        "\n",
        "Podemos também baixar o resultado e utilizar no Colab."
      ],
      "metadata": {
        "id": "IiQyAZhzRJ7_"
      }
    },
    {
      "cell_type": "code",
      "source": [
        "#@title Cópia de segurança do dataframe\n",
        "# df = result\n",
        "df=pd.read_csv('/content/loan_Default.csv')"
      ],
      "metadata": {
        "id": "m0TDlUn5AnAS"
      },
      "execution_count": 10,
      "outputs": []
    },
    {
      "cell_type": "code",
      "source": [
        "#@title Dataframe dos dados\n",
        "df.head(5)"
      ],
      "metadata": {
        "colab": {
          "base_uri": "https://localhost:8080/",
          "height": 421
        },
        "id": "t-LOPYLf_eLG",
        "outputId": "953045e3-71b5-422a-f120-28b9da738834"
      },
      "execution_count": 11,
      "outputs": [
        {
          "output_type": "stream",
          "name": "stdout",
          "text": [
            "Warning: Total number of columns (34) exceeds max_columns (20). Falling back to pandas display.\n"
          ]
        },
        {
          "output_type": "execute_result",
          "data": {
            "text/plain": [
              "      ID  year loan_limit             Gender approv_in_adv loan_type  \\\n",
              "0  24890  2019         cf  Sex Not Available         nopre     type1   \n",
              "1  24891  2019         cf               Male         nopre     type2   \n",
              "2  24892  2019         cf               Male           pre     type1   \n",
              "3  24893  2019         cf               Male         nopre     type1   \n",
              "4  24894  2019         cf              Joint           pre     type1   \n",
              "\n",
              "  loan_purpose Credit_Worthiness open_credit business_or_commercial  ...  \\\n",
              "0           p1                l1        nopc                  nob/c  ...   \n",
              "1           p1                l1        nopc                    b/c  ...   \n",
              "2           p1                l1        nopc                  nob/c  ...   \n",
              "3           p4                l1        nopc                  nob/c  ...   \n",
              "4           p1                l1        nopc                  nob/c  ...   \n",
              "\n",
              "   credit_type  Credit_Score  co-applicant_credit_type    age  \\\n",
              "0          EXP           758                       CIB  25-34   \n",
              "1         EQUI           552                       EXP  55-64   \n",
              "2          EXP           834                       CIB  35-44   \n",
              "3          EXP           587                       CIB  45-54   \n",
              "4         CRIF           602                       EXP  25-34   \n",
              "\n",
              "   submission_of_application        LTV Region Security_Type  Status dtir1  \n",
              "0                    to_inst  98.728814  south        direct       1  45.0  \n",
              "1                    to_inst        NaN  North        direct       1   NaN  \n",
              "2                    to_inst  80.019685  south        direct       0  46.0  \n",
              "3                   not_inst  69.376900  North        direct       0  42.0  \n",
              "4                   not_inst  91.886544  North        direct       0  39.0  \n",
              "\n",
              "[5 rows x 34 columns]"
            ],
            "text/html": [
              "\n",
              "  <div id=\"df-a79a6f3f-0f83-4352-a8c9-98511cf78284\">\n",
              "    <div class=\"colab-df-container\">\n",
              "      <div>\n",
              "<style scoped>\n",
              "    .dataframe tbody tr th:only-of-type {\n",
              "        vertical-align: middle;\n",
              "    }\n",
              "\n",
              "    .dataframe tbody tr th {\n",
              "        vertical-align: top;\n",
              "    }\n",
              "\n",
              "    .dataframe thead th {\n",
              "        text-align: right;\n",
              "    }\n",
              "</style>\n",
              "<table border=\"1\" class=\"dataframe\">\n",
              "  <thead>\n",
              "    <tr style=\"text-align: right;\">\n",
              "      <th></th>\n",
              "      <th>ID</th>\n",
              "      <th>year</th>\n",
              "      <th>loan_limit</th>\n",
              "      <th>Gender</th>\n",
              "      <th>approv_in_adv</th>\n",
              "      <th>loan_type</th>\n",
              "      <th>loan_purpose</th>\n",
              "      <th>Credit_Worthiness</th>\n",
              "      <th>open_credit</th>\n",
              "      <th>business_or_commercial</th>\n",
              "      <th>...</th>\n",
              "      <th>credit_type</th>\n",
              "      <th>Credit_Score</th>\n",
              "      <th>co-applicant_credit_type</th>\n",
              "      <th>age</th>\n",
              "      <th>submission_of_application</th>\n",
              "      <th>LTV</th>\n",
              "      <th>Region</th>\n",
              "      <th>Security_Type</th>\n",
              "      <th>Status</th>\n",
              "      <th>dtir1</th>\n",
              "    </tr>\n",
              "  </thead>\n",
              "  <tbody>\n",
              "    <tr>\n",
              "      <th>0</th>\n",
              "      <td>24890</td>\n",
              "      <td>2019</td>\n",
              "      <td>cf</td>\n",
              "      <td>Sex Not Available</td>\n",
              "      <td>nopre</td>\n",
              "      <td>type1</td>\n",
              "      <td>p1</td>\n",
              "      <td>l1</td>\n",
              "      <td>nopc</td>\n",
              "      <td>nob/c</td>\n",
              "      <td>...</td>\n",
              "      <td>EXP</td>\n",
              "      <td>758</td>\n",
              "      <td>CIB</td>\n",
              "      <td>25-34</td>\n",
              "      <td>to_inst</td>\n",
              "      <td>98.728814</td>\n",
              "      <td>south</td>\n",
              "      <td>direct</td>\n",
              "      <td>1</td>\n",
              "      <td>45.0</td>\n",
              "    </tr>\n",
              "    <tr>\n",
              "      <th>1</th>\n",
              "      <td>24891</td>\n",
              "      <td>2019</td>\n",
              "      <td>cf</td>\n",
              "      <td>Male</td>\n",
              "      <td>nopre</td>\n",
              "      <td>type2</td>\n",
              "      <td>p1</td>\n",
              "      <td>l1</td>\n",
              "      <td>nopc</td>\n",
              "      <td>b/c</td>\n",
              "      <td>...</td>\n",
              "      <td>EQUI</td>\n",
              "      <td>552</td>\n",
              "      <td>EXP</td>\n",
              "      <td>55-64</td>\n",
              "      <td>to_inst</td>\n",
              "      <td>NaN</td>\n",
              "      <td>North</td>\n",
              "      <td>direct</td>\n",
              "      <td>1</td>\n",
              "      <td>NaN</td>\n",
              "    </tr>\n",
              "    <tr>\n",
              "      <th>2</th>\n",
              "      <td>24892</td>\n",
              "      <td>2019</td>\n",
              "      <td>cf</td>\n",
              "      <td>Male</td>\n",
              "      <td>pre</td>\n",
              "      <td>type1</td>\n",
              "      <td>p1</td>\n",
              "      <td>l1</td>\n",
              "      <td>nopc</td>\n",
              "      <td>nob/c</td>\n",
              "      <td>...</td>\n",
              "      <td>EXP</td>\n",
              "      <td>834</td>\n",
              "      <td>CIB</td>\n",
              "      <td>35-44</td>\n",
              "      <td>to_inst</td>\n",
              "      <td>80.019685</td>\n",
              "      <td>south</td>\n",
              "      <td>direct</td>\n",
              "      <td>0</td>\n",
              "      <td>46.0</td>\n",
              "    </tr>\n",
              "    <tr>\n",
              "      <th>3</th>\n",
              "      <td>24893</td>\n",
              "      <td>2019</td>\n",
              "      <td>cf</td>\n",
              "      <td>Male</td>\n",
              "      <td>nopre</td>\n",
              "      <td>type1</td>\n",
              "      <td>p4</td>\n",
              "      <td>l1</td>\n",
              "      <td>nopc</td>\n",
              "      <td>nob/c</td>\n",
              "      <td>...</td>\n",
              "      <td>EXP</td>\n",
              "      <td>587</td>\n",
              "      <td>CIB</td>\n",
              "      <td>45-54</td>\n",
              "      <td>not_inst</td>\n",
              "      <td>69.376900</td>\n",
              "      <td>North</td>\n",
              "      <td>direct</td>\n",
              "      <td>0</td>\n",
              "      <td>42.0</td>\n",
              "    </tr>\n",
              "    <tr>\n",
              "      <th>4</th>\n",
              "      <td>24894</td>\n",
              "      <td>2019</td>\n",
              "      <td>cf</td>\n",
              "      <td>Joint</td>\n",
              "      <td>pre</td>\n",
              "      <td>type1</td>\n",
              "      <td>p1</td>\n",
              "      <td>l1</td>\n",
              "      <td>nopc</td>\n",
              "      <td>nob/c</td>\n",
              "      <td>...</td>\n",
              "      <td>CRIF</td>\n",
              "      <td>602</td>\n",
              "      <td>EXP</td>\n",
              "      <td>25-34</td>\n",
              "      <td>not_inst</td>\n",
              "      <td>91.886544</td>\n",
              "      <td>North</td>\n",
              "      <td>direct</td>\n",
              "      <td>0</td>\n",
              "      <td>39.0</td>\n",
              "    </tr>\n",
              "  </tbody>\n",
              "</table>\n",
              "<p>5 rows × 34 columns</p>\n",
              "</div>\n",
              "      <button class=\"colab-df-convert\" onclick=\"convertToInteractive('df-a79a6f3f-0f83-4352-a8c9-98511cf78284')\"\n",
              "              title=\"Convert this dataframe to an interactive table.\"\n",
              "              style=\"display:none;\">\n",
              "        \n",
              "  <svg xmlns=\"http://www.w3.org/2000/svg\" height=\"24px\"viewBox=\"0 0 24 24\"\n",
              "       width=\"24px\">\n",
              "    <path d=\"M0 0h24v24H0V0z\" fill=\"none\"/>\n",
              "    <path d=\"M18.56 5.44l.94 2.06.94-2.06 2.06-.94-2.06-.94-.94-2.06-.94 2.06-2.06.94zm-11 1L8.5 8.5l.94-2.06 2.06-.94-2.06-.94L8.5 2.5l-.94 2.06-2.06.94zm10 10l.94 2.06.94-2.06 2.06-.94-2.06-.94-.94-2.06-.94 2.06-2.06.94z\"/><path d=\"M17.41 7.96l-1.37-1.37c-.4-.4-.92-.59-1.43-.59-.52 0-1.04.2-1.43.59L10.3 9.45l-7.72 7.72c-.78.78-.78 2.05 0 2.83L4 21.41c.39.39.9.59 1.41.59.51 0 1.02-.2 1.41-.59l7.78-7.78 2.81-2.81c.8-.78.8-2.07 0-2.86zM5.41 20L4 18.59l7.72-7.72 1.47 1.35L5.41 20z\"/>\n",
              "  </svg>\n",
              "      </button>\n",
              "      \n",
              "  <style>\n",
              "    .colab-df-container {\n",
              "      display:flex;\n",
              "      flex-wrap:wrap;\n",
              "      gap: 12px;\n",
              "    }\n",
              "\n",
              "    .colab-df-convert {\n",
              "      background-color: #E8F0FE;\n",
              "      border: none;\n",
              "      border-radius: 50%;\n",
              "      cursor: pointer;\n",
              "      display: none;\n",
              "      fill: #1967D2;\n",
              "      height: 32px;\n",
              "      padding: 0 0 0 0;\n",
              "      width: 32px;\n",
              "    }\n",
              "\n",
              "    .colab-df-convert:hover {\n",
              "      background-color: #E2EBFA;\n",
              "      box-shadow: 0px 1px 2px rgba(60, 64, 67, 0.3), 0px 1px 3px 1px rgba(60, 64, 67, 0.15);\n",
              "      fill: #174EA6;\n",
              "    }\n",
              "\n",
              "    [theme=dark] .colab-df-convert {\n",
              "      background-color: #3B4455;\n",
              "      fill: #D2E3FC;\n",
              "    }\n",
              "\n",
              "    [theme=dark] .colab-df-convert:hover {\n",
              "      background-color: #434B5C;\n",
              "      box-shadow: 0px 1px 3px 1px rgba(0, 0, 0, 0.15);\n",
              "      filter: drop-shadow(0px 1px 2px rgba(0, 0, 0, 0.3));\n",
              "      fill: #FFFFFF;\n",
              "    }\n",
              "  </style>\n",
              "\n",
              "      <script>\n",
              "        const buttonEl =\n",
              "          document.querySelector('#df-a79a6f3f-0f83-4352-a8c9-98511cf78284 button.colab-df-convert');\n",
              "        buttonEl.style.display =\n",
              "          google.colab.kernel.accessAllowed ? 'block' : 'none';\n",
              "\n",
              "        async function convertToInteractive(key) {\n",
              "          const element = document.querySelector('#df-a79a6f3f-0f83-4352-a8c9-98511cf78284');\n",
              "          const dataTable =\n",
              "            await google.colab.kernel.invokeFunction('convertToInteractive',\n",
              "                                                     [key], {});\n",
              "          if (!dataTable) return;\n",
              "\n",
              "          const docLinkHtml = 'Like what you see? Visit the ' +\n",
              "            '<a target=\"_blank\" href=https://colab.research.google.com/notebooks/data_table.ipynb>data table notebook</a>'\n",
              "            + ' to learn more about interactive tables.';\n",
              "          element.innerHTML = '';\n",
              "          dataTable['output_type'] = 'display_data';\n",
              "          await google.colab.output.renderOutput(dataTable, element);\n",
              "          const docLink = document.createElement('div');\n",
              "          docLink.innerHTML = docLinkHtml;\n",
              "          element.appendChild(docLink);\n",
              "        }\n",
              "      </script>\n",
              "    </div>\n",
              "  </div>\n",
              "  "
            ]
          },
          "metadata": {},
          "execution_count": 11
        }
      ]
    },
    {
      "cell_type": "code",
      "source": [
        "#@title Dimensionalidade dos dados - Linhas/Colunas\n",
        "df.shape"
      ],
      "metadata": {
        "colab": {
          "base_uri": "https://localhost:8080/"
        },
        "id": "EQKqKZ_T_u-o",
        "outputId": "1d2a6808-381c-4bb2-c2a9-f944befa1b5e"
      },
      "execution_count": 12,
      "outputs": [
        {
          "output_type": "execute_result",
          "data": {
            "text/plain": [
              "(148670, 34)"
            ]
          },
          "metadata": {},
          "execution_count": 12
        }
      ]
    },
    {
      "cell_type": "code",
      "source": [
        "#@title Colunas do dataframe\n",
        "df.columns"
      ],
      "metadata": {
        "colab": {
          "base_uri": "https://localhost:8080/"
        },
        "id": "v8swWklNA1jF",
        "outputId": "9d4b9a14-2d8a-4155-f94d-439da75903bd"
      },
      "execution_count": 13,
      "outputs": [
        {
          "output_type": "execute_result",
          "data": {
            "text/plain": [
              "Index(['ID', 'year', 'loan_limit', 'Gender', 'approv_in_adv', 'loan_type',\n",
              "       'loan_purpose', 'Credit_Worthiness', 'open_credit',\n",
              "       'business_or_commercial', 'loan_amount', 'rate_of_interest',\n",
              "       'Interest_rate_spread', 'Upfront_charges', 'term', 'Neg_ammortization',\n",
              "       'interest_only', 'lump_sum_payment', 'property_value',\n",
              "       'construction_type', 'occupancy_type', 'Secured_by', 'total_units',\n",
              "       'income', 'credit_type', 'Credit_Score', 'co-applicant_credit_type',\n",
              "       'age', 'submission_of_application', 'LTV', 'Region', 'Security_Type',\n",
              "       'Status', 'dtir1'],\n",
              "      dtype='object')"
            ]
          },
          "metadata": {},
          "execution_count": 13
        }
      ]
    },
    {
      "cell_type": "code",
      "source": [
        "#@title Conversão das colunas para minúsculas \n",
        "df.columns= df.columns.str.lower()"
      ],
      "metadata": {
        "id": "mEnJorKoDhGK"
      },
      "execution_count": 14,
      "outputs": []
    },
    {
      "cell_type": "code",
      "source": [
        "df.columns"
      ],
      "metadata": {
        "colab": {
          "base_uri": "https://localhost:8080/"
        },
        "id": "ByEjS63kDrDz",
        "outputId": "b2352eb6-ae06-4552-85b4-d2a40c30494b"
      },
      "execution_count": 15,
      "outputs": [
        {
          "output_type": "execute_result",
          "data": {
            "text/plain": [
              "Index(['id', 'year', 'loan_limit', 'gender', 'approv_in_adv', 'loan_type',\n",
              "       'loan_purpose', 'credit_worthiness', 'open_credit',\n",
              "       'business_or_commercial', 'loan_amount', 'rate_of_interest',\n",
              "       'interest_rate_spread', 'upfront_charges', 'term', 'neg_ammortization',\n",
              "       'interest_only', 'lump_sum_payment', 'property_value',\n",
              "       'construction_type', 'occupancy_type', 'secured_by', 'total_units',\n",
              "       'income', 'credit_type', 'credit_score', 'co-applicant_credit_type',\n",
              "       'age', 'submission_of_application', 'ltv', 'region', 'security_type',\n",
              "       'status', 'dtir1'],\n",
              "      dtype='object')"
            ]
          },
          "metadata": {},
          "execution_count": 15
        }
      ]
    },
    {
      "cell_type": "markdown",
      "source": [
        "### Remoção de colunas\n",
        "\n",
        "Removemos algumas colunas que não apresentavam necessidade para o nosso mobelo.\n"
      ],
      "metadata": {
        "id": "sfC1OLhO_UXC"
      }
    },
    {
      "cell_type": "code",
      "source": [
        "columns= ['id', 'year', 'loan_limit', 'gender', 'approv_in_adv','loan_purpose', 'credit_worthiness', 'open_credit','business_or_commercial','interest_rate_spread', 'upfront_charges', 'neg_ammortization','interest_only', 'lump_sum_payment','construction_type', 'occupancy_type', 'secured_by', 'total_units','credit_type', 'co-applicant_credit_type','submission_of_application', 'ltv', 'region', 'security_type']\n",
        "df.drop(columns,axis=1, inplace =True)"
      ],
      "metadata": {
        "id": "QZCwbrS9_sVI"
      },
      "execution_count": 16,
      "outputs": []
    },
    {
      "cell_type": "code",
      "source": [
        "df.columns"
      ],
      "metadata": {
        "colab": {
          "base_uri": "https://localhost:8080/"
        },
        "id": "pEYBDHf-ARhr",
        "outputId": "c7377a18-f81d-4c19-fcdc-dd4f78f0a18e"
      },
      "execution_count": 17,
      "outputs": [
        {
          "output_type": "execute_result",
          "data": {
            "text/plain": [
              "Index(['loan_type', 'loan_amount', 'rate_of_interest', 'term',\n",
              "       'property_value', 'income', 'credit_score', 'age', 'status', 'dtir1'],\n",
              "      dtype='object')"
            ]
          },
          "metadata": {},
          "execution_count": 17
        }
      ]
    },
    {
      "cell_type": "code",
      "source": [
        "df.shape"
      ],
      "metadata": {
        "colab": {
          "base_uri": "https://localhost:8080/"
        },
        "id": "Bh0yrDCRAwE8",
        "outputId": "dadf159f-9e82-450d-8543-7a62b925d7b2"
      },
      "execution_count": 18,
      "outputs": [
        {
          "output_type": "execute_result",
          "data": {
            "text/plain": [
              "(148670, 10)"
            ]
          },
          "metadata": {},
          "execution_count": 18
        }
      ]
    },
    {
      "cell_type": "code",
      "source": [
        "#@title Dados filtrados e prontos para uso\n",
        "\n",
        "pd.set_option(\"display.max_columns\", df.shape[-1]) \n",
        "df.head()"
      ],
      "metadata": {
        "colab": {
          "base_uri": "https://localhost:8080/",
          "height": 197
        },
        "id": "juLxFFQVA09b",
        "outputId": "b8df49cf-e470-4ed6-de76-9e2c3763bf76"
      },
      "execution_count": 19,
      "outputs": [
        {
          "output_type": "execute_result",
          "data": {
            "text/plain": [
              "  loan_type  loan_amount  rate_of_interest   term  property_value   income  \\\n",
              "0     type1       116500               NaN  360.0        118000.0   1740.0   \n",
              "1     type2       206500               NaN  360.0             NaN   4980.0   \n",
              "2     type1       406500              4.56  360.0        508000.0   9480.0   \n",
              "3     type1       456500              4.25  360.0        658000.0  11880.0   \n",
              "4     type1       696500              4.00  360.0        758000.0  10440.0   \n",
              "\n",
              "   credit_score    age  status  dtir1  \n",
              "0           758  25-34       1   45.0  \n",
              "1           552  55-64       1    NaN  \n",
              "2           834  35-44       0   46.0  \n",
              "3           587  45-54       0   42.0  \n",
              "4           602  25-34       0   39.0  "
            ],
            "text/html": [
              "\n",
              "  <div id=\"df-c07105ac-b24d-4b83-b70f-378ef4530519\">\n",
              "    <div class=\"colab-df-container\">\n",
              "      <div>\n",
              "<style scoped>\n",
              "    .dataframe tbody tr th:only-of-type {\n",
              "        vertical-align: middle;\n",
              "    }\n",
              "\n",
              "    .dataframe tbody tr th {\n",
              "        vertical-align: top;\n",
              "    }\n",
              "\n",
              "    .dataframe thead th {\n",
              "        text-align: right;\n",
              "    }\n",
              "</style>\n",
              "<table border=\"1\" class=\"dataframe\">\n",
              "  <thead>\n",
              "    <tr style=\"text-align: right;\">\n",
              "      <th></th>\n",
              "      <th>loan_type</th>\n",
              "      <th>loan_amount</th>\n",
              "      <th>rate_of_interest</th>\n",
              "      <th>term</th>\n",
              "      <th>property_value</th>\n",
              "      <th>income</th>\n",
              "      <th>credit_score</th>\n",
              "      <th>age</th>\n",
              "      <th>status</th>\n",
              "      <th>dtir1</th>\n",
              "    </tr>\n",
              "  </thead>\n",
              "  <tbody>\n",
              "    <tr>\n",
              "      <th>0</th>\n",
              "      <td>type1</td>\n",
              "      <td>116500</td>\n",
              "      <td>NaN</td>\n",
              "      <td>360.0</td>\n",
              "      <td>118000.0</td>\n",
              "      <td>1740.0</td>\n",
              "      <td>758</td>\n",
              "      <td>25-34</td>\n",
              "      <td>1</td>\n",
              "      <td>45.0</td>\n",
              "    </tr>\n",
              "    <tr>\n",
              "      <th>1</th>\n",
              "      <td>type2</td>\n",
              "      <td>206500</td>\n",
              "      <td>NaN</td>\n",
              "      <td>360.0</td>\n",
              "      <td>NaN</td>\n",
              "      <td>4980.0</td>\n",
              "      <td>552</td>\n",
              "      <td>55-64</td>\n",
              "      <td>1</td>\n",
              "      <td>NaN</td>\n",
              "    </tr>\n",
              "    <tr>\n",
              "      <th>2</th>\n",
              "      <td>type1</td>\n",
              "      <td>406500</td>\n",
              "      <td>4.56</td>\n",
              "      <td>360.0</td>\n",
              "      <td>508000.0</td>\n",
              "      <td>9480.0</td>\n",
              "      <td>834</td>\n",
              "      <td>35-44</td>\n",
              "      <td>0</td>\n",
              "      <td>46.0</td>\n",
              "    </tr>\n",
              "    <tr>\n",
              "      <th>3</th>\n",
              "      <td>type1</td>\n",
              "      <td>456500</td>\n",
              "      <td>4.25</td>\n",
              "      <td>360.0</td>\n",
              "      <td>658000.0</td>\n",
              "      <td>11880.0</td>\n",
              "      <td>587</td>\n",
              "      <td>45-54</td>\n",
              "      <td>0</td>\n",
              "      <td>42.0</td>\n",
              "    </tr>\n",
              "    <tr>\n",
              "      <th>4</th>\n",
              "      <td>type1</td>\n",
              "      <td>696500</td>\n",
              "      <td>4.00</td>\n",
              "      <td>360.0</td>\n",
              "      <td>758000.0</td>\n",
              "      <td>10440.0</td>\n",
              "      <td>602</td>\n",
              "      <td>25-34</td>\n",
              "      <td>0</td>\n",
              "      <td>39.0</td>\n",
              "    </tr>\n",
              "  </tbody>\n",
              "</table>\n",
              "</div>\n",
              "      <button class=\"colab-df-convert\" onclick=\"convertToInteractive('df-c07105ac-b24d-4b83-b70f-378ef4530519')\"\n",
              "              title=\"Convert this dataframe to an interactive table.\"\n",
              "              style=\"display:none;\">\n",
              "        \n",
              "  <svg xmlns=\"http://www.w3.org/2000/svg\" height=\"24px\"viewBox=\"0 0 24 24\"\n",
              "       width=\"24px\">\n",
              "    <path d=\"M0 0h24v24H0V0z\" fill=\"none\"/>\n",
              "    <path d=\"M18.56 5.44l.94 2.06.94-2.06 2.06-.94-2.06-.94-.94-2.06-.94 2.06-2.06.94zm-11 1L8.5 8.5l.94-2.06 2.06-.94-2.06-.94L8.5 2.5l-.94 2.06-2.06.94zm10 10l.94 2.06.94-2.06 2.06-.94-2.06-.94-.94-2.06-.94 2.06-2.06.94z\"/><path d=\"M17.41 7.96l-1.37-1.37c-.4-.4-.92-.59-1.43-.59-.52 0-1.04.2-1.43.59L10.3 9.45l-7.72 7.72c-.78.78-.78 2.05 0 2.83L4 21.41c.39.39.9.59 1.41.59.51 0 1.02-.2 1.41-.59l7.78-7.78 2.81-2.81c.8-.78.8-2.07 0-2.86zM5.41 20L4 18.59l7.72-7.72 1.47 1.35L5.41 20z\"/>\n",
              "  </svg>\n",
              "      </button>\n",
              "      \n",
              "  <style>\n",
              "    .colab-df-container {\n",
              "      display:flex;\n",
              "      flex-wrap:wrap;\n",
              "      gap: 12px;\n",
              "    }\n",
              "\n",
              "    .colab-df-convert {\n",
              "      background-color: #E8F0FE;\n",
              "      border: none;\n",
              "      border-radius: 50%;\n",
              "      cursor: pointer;\n",
              "      display: none;\n",
              "      fill: #1967D2;\n",
              "      height: 32px;\n",
              "      padding: 0 0 0 0;\n",
              "      width: 32px;\n",
              "    }\n",
              "\n",
              "    .colab-df-convert:hover {\n",
              "      background-color: #E2EBFA;\n",
              "      box-shadow: 0px 1px 2px rgba(60, 64, 67, 0.3), 0px 1px 3px 1px rgba(60, 64, 67, 0.15);\n",
              "      fill: #174EA6;\n",
              "    }\n",
              "\n",
              "    [theme=dark] .colab-df-convert {\n",
              "      background-color: #3B4455;\n",
              "      fill: #D2E3FC;\n",
              "    }\n",
              "\n",
              "    [theme=dark] .colab-df-convert:hover {\n",
              "      background-color: #434B5C;\n",
              "      box-shadow: 0px 1px 3px 1px rgba(0, 0, 0, 0.15);\n",
              "      filter: drop-shadow(0px 1px 2px rgba(0, 0, 0, 0.3));\n",
              "      fill: #FFFFFF;\n",
              "    }\n",
              "  </style>\n",
              "\n",
              "      <script>\n",
              "        const buttonEl =\n",
              "          document.querySelector('#df-c07105ac-b24d-4b83-b70f-378ef4530519 button.colab-df-convert');\n",
              "        buttonEl.style.display =\n",
              "          google.colab.kernel.accessAllowed ? 'block' : 'none';\n",
              "\n",
              "        async function convertToInteractive(key) {\n",
              "          const element = document.querySelector('#df-c07105ac-b24d-4b83-b70f-378ef4530519');\n",
              "          const dataTable =\n",
              "            await google.colab.kernel.invokeFunction('convertToInteractive',\n",
              "                                                     [key], {});\n",
              "          if (!dataTable) return;\n",
              "\n",
              "          const docLinkHtml = 'Like what you see? Visit the ' +\n",
              "            '<a target=\"_blank\" href=https://colab.research.google.com/notebooks/data_table.ipynb>data table notebook</a>'\n",
              "            + ' to learn more about interactive tables.';\n",
              "          element.innerHTML = '';\n",
              "          dataTable['output_type'] = 'display_data';\n",
              "          await google.colab.output.renderOutput(dataTable, element);\n",
              "          const docLink = document.createElement('div');\n",
              "          docLink.innerHTML = docLinkHtml;\n",
              "          element.appendChild(docLink);\n",
              "        }\n",
              "      </script>\n",
              "    </div>\n",
              "  </div>\n",
              "  "
            ],
            "application/vnd.google.colaboratory.module+javascript": "\n      import \"https://ssl.gstatic.com/colaboratory/data_table/fb998edc550c7947/data_table.js\";\n\n      window.createDataTable({\n        data: [[{\n            'v': 0,\n            'f': \"0\",\n        },\n\"type1\",\n{\n            'v': 116500,\n            'f': \"116500\",\n        },\n{\n            'v': NaN,\n            'f': \"NaN\",\n        },\n{\n            'v': 360.0,\n            'f': \"360.0\",\n        },\n{\n            'v': 118000.0,\n            'f': \"118000.0\",\n        },\n{\n            'v': 1740.0,\n            'f': \"1740.0\",\n        },\n{\n            'v': 758,\n            'f': \"758\",\n        },\n\"25-34\",\n{\n            'v': 1,\n            'f': \"1\",\n        },\n{\n            'v': 45.0,\n            'f': \"45.0\",\n        }],\n [{\n            'v': 1,\n            'f': \"1\",\n        },\n\"type2\",\n{\n            'v': 206500,\n            'f': \"206500\",\n        },\n{\n            'v': NaN,\n            'f': \"NaN\",\n        },\n{\n            'v': 360.0,\n            'f': \"360.0\",\n        },\n{\n            'v': NaN,\n            'f': \"NaN\",\n        },\n{\n            'v': 4980.0,\n            'f': \"4980.0\",\n        },\n{\n            'v': 552,\n            'f': \"552\",\n        },\n\"55-64\",\n{\n            'v': 1,\n            'f': \"1\",\n        },\n{\n            'v': NaN,\n            'f': \"NaN\",\n        }],\n [{\n            'v': 2,\n            'f': \"2\",\n        },\n\"type1\",\n{\n            'v': 406500,\n            'f': \"406500\",\n        },\n{\n            'v': 4.56,\n            'f': \"4.56\",\n        },\n{\n            'v': 360.0,\n            'f': \"360.0\",\n        },\n{\n            'v': 508000.0,\n            'f': \"508000.0\",\n        },\n{\n            'v': 9480.0,\n            'f': \"9480.0\",\n        },\n{\n            'v': 834,\n            'f': \"834\",\n        },\n\"35-44\",\n{\n            'v': 0,\n            'f': \"0\",\n        },\n{\n            'v': 46.0,\n            'f': \"46.0\",\n        }],\n [{\n            'v': 3,\n            'f': \"3\",\n        },\n\"type1\",\n{\n            'v': 456500,\n            'f': \"456500\",\n        },\n{\n            'v': 4.25,\n            'f': \"4.25\",\n        },\n{\n            'v': 360.0,\n            'f': \"360.0\",\n        },\n{\n            'v': 658000.0,\n            'f': \"658000.0\",\n        },\n{\n            'v': 11880.0,\n            'f': \"11880.0\",\n        },\n{\n            'v': 587,\n            'f': \"587\",\n        },\n\"45-54\",\n{\n            'v': 0,\n            'f': \"0\",\n        },\n{\n            'v': 42.0,\n            'f': \"42.0\",\n        }],\n [{\n            'v': 4,\n            'f': \"4\",\n        },\n\"type1\",\n{\n            'v': 696500,\n            'f': \"696500\",\n        },\n{\n            'v': 4.0,\n            'f': \"4.0\",\n        },\n{\n            'v': 360.0,\n            'f': \"360.0\",\n        },\n{\n            'v': 758000.0,\n            'f': \"758000.0\",\n        },\n{\n            'v': 10440.0,\n            'f': \"10440.0\",\n        },\n{\n            'v': 602,\n            'f': \"602\",\n        },\n\"25-34\",\n{\n            'v': 0,\n            'f': \"0\",\n        },\n{\n            'v': 39.0,\n            'f': \"39.0\",\n        }]],\n        columns: [[\"number\", \"index\"], [\"string\", \"loan_type\"], [\"number\", \"loan_amount\"], [\"number\", \"rate_of_interest\"], [\"number\", \"term\"], [\"number\", \"property_value\"], [\"number\", \"income\"], [\"number\", \"credit_score\"], [\"string\", \"age\"], [\"number\", \"status\"], [\"number\", \"dtir1\"]],\n        columnOptions: [{\"width\": \"1px\", \"className\": \"index_column\"}],\n        rowsPerPage: 25,\n        helpUrl: \"https://colab.research.google.com/notebooks/data_table.ipynb\",\n        suppressOutputScrolling: true,\n        minimumWidth: undefined,\n      });\n    "
          },
          "metadata": {},
          "execution_count": 19
        }
      ]
    },
    {
      "cell_type": "markdown",
      "source": [
        "### Verificação de dados nulos\n",
        "\n",
        "Aqui nós vamos verificar os dados nulos do nosso modelo, além disso colocamos o resultado em um DataFrame para exibir o total encontrado X a proporção de valores nulos do nosso modelo."
      ],
      "metadata": {
        "id": "N0GU5Pt6BcjL"
      }
    },
    {
      "cell_type": "code",
      "source": [
        "df.isnull().mean(axis=1).loc[:10]"
      ],
      "metadata": {
        "colab": {
          "base_uri": "https://localhost:8080/"
        },
        "id": "e6NBqWq4A8CE",
        "outputId": "05d1958d-96cc-4bef-a13f-364a9ca898fd"
      },
      "execution_count": 20,
      "outputs": [
        {
          "output_type": "execute_result",
          "data": {
            "text/plain": [
              "0     0.1\n",
              "1     0.3\n",
              "2     0.0\n",
              "3     0.0\n",
              "4     0.0\n",
              "5     0.0\n",
              "6     0.0\n",
              "7     0.0\n",
              "8     0.0\n",
              "9     0.0\n",
              "10    0.1\n",
              "dtype: float64"
            ]
          },
          "metadata": {},
          "execution_count": 20
        }
      ]
    },
    {
      "cell_type": "code",
      "source": [
        "df.isnull() # Aqui verificamos o total de null na base se existir\n",
        "df.isnull().sum()/len(df) # Aqui obtemos a proporção de null se existir\n",
        "\n",
        "# Criamos um novo DataFrame para verificar o total e a proporção de null na base\n",
        "pd.DataFrame(zip(df.isnull().sum(),df.isnull().sum()/len(df)), columns=['Count', 'Proportion'], index=df.columns)"
      ],
      "metadata": {
        "colab": {
          "base_uri": "https://localhost:8080/",
          "height": 305
        },
        "id": "71JkOkFNBjo3",
        "outputId": "a02d2ba3-b01d-4e44-d49e-67c1ea381a28"
      },
      "execution_count": 21,
      "outputs": [
        {
          "output_type": "execute_result",
          "data": {
            "text/plain": [
              "                  Count  Proportion\n",
              "loan_type             0    0.000000\n",
              "loan_amount           0    0.000000\n",
              "rate_of_interest  36439    0.245100\n",
              "term                 41    0.000276\n",
              "property_value    15098    0.101554\n",
              "income             9150    0.061546\n",
              "credit_score          0    0.000000\n",
              "age                 200    0.001345\n",
              "status                0    0.000000\n",
              "dtir1             24121    0.162245"
            ],
            "text/html": [
              "\n",
              "  <div id=\"df-339ec942-c92a-4609-9ac4-e160ea754356\">\n",
              "    <div class=\"colab-df-container\">\n",
              "      <div>\n",
              "<style scoped>\n",
              "    .dataframe tbody tr th:only-of-type {\n",
              "        vertical-align: middle;\n",
              "    }\n",
              "\n",
              "    .dataframe tbody tr th {\n",
              "        vertical-align: top;\n",
              "    }\n",
              "\n",
              "    .dataframe thead th {\n",
              "        text-align: right;\n",
              "    }\n",
              "</style>\n",
              "<table border=\"1\" class=\"dataframe\">\n",
              "  <thead>\n",
              "    <tr style=\"text-align: right;\">\n",
              "      <th></th>\n",
              "      <th>Count</th>\n",
              "      <th>Proportion</th>\n",
              "    </tr>\n",
              "  </thead>\n",
              "  <tbody>\n",
              "    <tr>\n",
              "      <th>loan_type</th>\n",
              "      <td>0</td>\n",
              "      <td>0.000000</td>\n",
              "    </tr>\n",
              "    <tr>\n",
              "      <th>loan_amount</th>\n",
              "      <td>0</td>\n",
              "      <td>0.000000</td>\n",
              "    </tr>\n",
              "    <tr>\n",
              "      <th>rate_of_interest</th>\n",
              "      <td>36439</td>\n",
              "      <td>0.245100</td>\n",
              "    </tr>\n",
              "    <tr>\n",
              "      <th>term</th>\n",
              "      <td>41</td>\n",
              "      <td>0.000276</td>\n",
              "    </tr>\n",
              "    <tr>\n",
              "      <th>property_value</th>\n",
              "      <td>15098</td>\n",
              "      <td>0.101554</td>\n",
              "    </tr>\n",
              "    <tr>\n",
              "      <th>income</th>\n",
              "      <td>9150</td>\n",
              "      <td>0.061546</td>\n",
              "    </tr>\n",
              "    <tr>\n",
              "      <th>credit_score</th>\n",
              "      <td>0</td>\n",
              "      <td>0.000000</td>\n",
              "    </tr>\n",
              "    <tr>\n",
              "      <th>age</th>\n",
              "      <td>200</td>\n",
              "      <td>0.001345</td>\n",
              "    </tr>\n",
              "    <tr>\n",
              "      <th>status</th>\n",
              "      <td>0</td>\n",
              "      <td>0.000000</td>\n",
              "    </tr>\n",
              "    <tr>\n",
              "      <th>dtir1</th>\n",
              "      <td>24121</td>\n",
              "      <td>0.162245</td>\n",
              "    </tr>\n",
              "  </tbody>\n",
              "</table>\n",
              "</div>\n",
              "      <button class=\"colab-df-convert\" onclick=\"convertToInteractive('df-339ec942-c92a-4609-9ac4-e160ea754356')\"\n",
              "              title=\"Convert this dataframe to an interactive table.\"\n",
              "              style=\"display:none;\">\n",
              "        \n",
              "  <svg xmlns=\"http://www.w3.org/2000/svg\" height=\"24px\"viewBox=\"0 0 24 24\"\n",
              "       width=\"24px\">\n",
              "    <path d=\"M0 0h24v24H0V0z\" fill=\"none\"/>\n",
              "    <path d=\"M18.56 5.44l.94 2.06.94-2.06 2.06-.94-2.06-.94-.94-2.06-.94 2.06-2.06.94zm-11 1L8.5 8.5l.94-2.06 2.06-.94-2.06-.94L8.5 2.5l-.94 2.06-2.06.94zm10 10l.94 2.06.94-2.06 2.06-.94-2.06-.94-.94-2.06-.94 2.06-2.06.94z\"/><path d=\"M17.41 7.96l-1.37-1.37c-.4-.4-.92-.59-1.43-.59-.52 0-1.04.2-1.43.59L10.3 9.45l-7.72 7.72c-.78.78-.78 2.05 0 2.83L4 21.41c.39.39.9.59 1.41.59.51 0 1.02-.2 1.41-.59l7.78-7.78 2.81-2.81c.8-.78.8-2.07 0-2.86zM5.41 20L4 18.59l7.72-7.72 1.47 1.35L5.41 20z\"/>\n",
              "  </svg>\n",
              "      </button>\n",
              "      \n",
              "  <style>\n",
              "    .colab-df-container {\n",
              "      display:flex;\n",
              "      flex-wrap:wrap;\n",
              "      gap: 12px;\n",
              "    }\n",
              "\n",
              "    .colab-df-convert {\n",
              "      background-color: #E8F0FE;\n",
              "      border: none;\n",
              "      border-radius: 50%;\n",
              "      cursor: pointer;\n",
              "      display: none;\n",
              "      fill: #1967D2;\n",
              "      height: 32px;\n",
              "      padding: 0 0 0 0;\n",
              "      width: 32px;\n",
              "    }\n",
              "\n",
              "    .colab-df-convert:hover {\n",
              "      background-color: #E2EBFA;\n",
              "      box-shadow: 0px 1px 2px rgba(60, 64, 67, 0.3), 0px 1px 3px 1px rgba(60, 64, 67, 0.15);\n",
              "      fill: #174EA6;\n",
              "    }\n",
              "\n",
              "    [theme=dark] .colab-df-convert {\n",
              "      background-color: #3B4455;\n",
              "      fill: #D2E3FC;\n",
              "    }\n",
              "\n",
              "    [theme=dark] .colab-df-convert:hover {\n",
              "      background-color: #434B5C;\n",
              "      box-shadow: 0px 1px 3px 1px rgba(0, 0, 0, 0.15);\n",
              "      filter: drop-shadow(0px 1px 2px rgba(0, 0, 0, 0.3));\n",
              "      fill: #FFFFFF;\n",
              "    }\n",
              "  </style>\n",
              "\n",
              "      <script>\n",
              "        const buttonEl =\n",
              "          document.querySelector('#df-339ec942-c92a-4609-9ac4-e160ea754356 button.colab-df-convert');\n",
              "        buttonEl.style.display =\n",
              "          google.colab.kernel.accessAllowed ? 'block' : 'none';\n",
              "\n",
              "        async function convertToInteractive(key) {\n",
              "          const element = document.querySelector('#df-339ec942-c92a-4609-9ac4-e160ea754356');\n",
              "          const dataTable =\n",
              "            await google.colab.kernel.invokeFunction('convertToInteractive',\n",
              "                                                     [key], {});\n",
              "          if (!dataTable) return;\n",
              "\n",
              "          const docLinkHtml = 'Like what you see? Visit the ' +\n",
              "            '<a target=\"_blank\" href=https://colab.research.google.com/notebooks/data_table.ipynb>data table notebook</a>'\n",
              "            + ' to learn more about interactive tables.';\n",
              "          element.innerHTML = '';\n",
              "          dataTable['output_type'] = 'display_data';\n",
              "          await google.colab.output.renderOutput(dataTable, element);\n",
              "          const docLink = document.createElement('div');\n",
              "          docLink.innerHTML = docLinkHtml;\n",
              "          element.appendChild(docLink);\n",
              "        }\n",
              "      </script>\n",
              "    </div>\n",
              "  </div>\n",
              "  "
            ],
            "application/vnd.google.colaboratory.module+javascript": "\n      import \"https://ssl.gstatic.com/colaboratory/data_table/fb998edc550c7947/data_table.js\";\n\n      window.createDataTable({\n        data: [[\"loan_type\",\n{\n            'v': 0,\n            'f': \"0\",\n        },\n{\n            'v': 0.0,\n            'f': \"0.0\",\n        }],\n [\"loan_amount\",\n{\n            'v': 0,\n            'f': \"0\",\n        },\n{\n            'v': 0.0,\n            'f': \"0.0\",\n        }],\n [\"rate_of_interest\",\n{\n            'v': 36439,\n            'f': \"36439\",\n        },\n{\n            'v': 0.24509988565278806,\n            'f': \"0.24509988565278806\",\n        }],\n [\"term\",\n{\n            'v': 41,\n            'f': \"41\",\n        },\n{\n            'v': 0.00027577856998722004,\n            'f': \"0.00027577856998722004\",\n        }],\n [\"property_value\",\n{\n            'v': 15098,\n            'f': \"15098\",\n        },\n{\n            'v': 0.10155377682114751,\n            'f': \"0.10155377682114751\",\n        }],\n [\"income\",\n{\n            'v': 9150,\n            'f': \"9150\",\n        },\n{\n            'v': 0.061545705253245445,\n            'f': \"0.061545705253245445\",\n        }],\n [\"credit_score\",\n{\n            'v': 0,\n            'f': \"0\",\n        },\n{\n            'v': 0.0,\n            'f': \"0.0\",\n        }],\n [\"age\",\n{\n            'v': 200,\n            'f': \"200\",\n        },\n{\n            'v': 0.0013452613170108294,\n            'f': \"0.0013452613170108294\",\n        }],\n [\"status\",\n{\n            'v': 0,\n            'f': \"0\",\n        },\n{\n            'v': 0.0,\n            'f': \"0.0\",\n        }],\n [\"dtir1\",\n{\n            'v': 24121,\n            'f': \"24121\",\n        },\n{\n            'v': 0.16224524113809108,\n            'f': \"0.16224524113809108\",\n        }]],\n        columns: [[\"string\", \"index\"], [\"number\", \"Count\"], [\"number\", \"Proportion\"]],\n        columnOptions: [{\"width\": \"1px\", \"className\": \"index_column\"}],\n        rowsPerPage: 25,\n        helpUrl: \"https://colab.research.google.com/notebooks/data_table.ipynb\",\n        suppressOutputScrolling: true,\n        minimumWidth: undefined,\n      });\n    "
          },
          "metadata": {},
          "execution_count": 21
        }
      ]
    },
    {
      "cell_type": "code",
      "source": [
        "#@title validação de valores duplicados\n",
        "df.duplicated().sum()"
      ],
      "metadata": {
        "colab": {
          "base_uri": "https://localhost:8080/"
        },
        "id": "RzBeB2ikBuBO",
        "outputId": "16328e6b-9f77-4baf-b185-ef3d8f3bacb7"
      },
      "execution_count": 22,
      "outputs": [
        {
          "output_type": "execute_result",
          "data": {
            "text/plain": [
              "6"
            ]
          },
          "metadata": {},
          "execution_count": 22
        }
      ]
    },
    {
      "cell_type": "code",
      "source": [
        "df.drop_duplicates(inplace=True)"
      ],
      "metadata": {
        "id": "fIpwAmcdByfO"
      },
      "execution_count": 23,
      "outputs": []
    },
    {
      "cell_type": "code",
      "source": [
        "df.duplicated().sum()"
      ],
      "metadata": {
        "colab": {
          "base_uri": "https://localhost:8080/"
        },
        "id": "Z5K8EvtYB0Pt",
        "outputId": "4834a345-f829-4dd0-ccdd-077f9403f0bc"
      },
      "execution_count": 24,
      "outputs": [
        {
          "output_type": "execute_result",
          "data": {
            "text/plain": [
              "0"
            ]
          },
          "metadata": {},
          "execution_count": 24
        }
      ]
    },
    {
      "cell_type": "code",
      "source": [
        "df.shape"
      ],
      "metadata": {
        "colab": {
          "base_uri": "https://localhost:8080/"
        },
        "id": "vveBuEWAB1z4",
        "outputId": "a665d34e-4b6a-4665-c6ba-029ec6237550"
      },
      "execution_count": 25,
      "outputs": [
        {
          "output_type": "execute_result",
          "data": {
            "text/plain": [
              "(148664, 10)"
            ]
          },
          "metadata": {},
          "execution_count": 25
        }
      ]
    },
    {
      "cell_type": "code",
      "source": [
        "df.info()"
      ],
      "metadata": {
        "colab": {
          "base_uri": "https://localhost:8080/"
        },
        "id": "eslR1n29B6AQ",
        "outputId": "239fa464-61d8-463b-9717-6bdaa3a273ee"
      },
      "execution_count": 26,
      "outputs": [
        {
          "output_type": "stream",
          "name": "stdout",
          "text": [
            "<class 'pandas.core.frame.DataFrame'>\n",
            "Int64Index: 148664 entries, 0 to 148669\n",
            "Data columns (total 10 columns):\n",
            " #   Column            Non-Null Count   Dtype  \n",
            "---  ------            --------------   -----  \n",
            " 0   loan_type         148664 non-null  object \n",
            " 1   loan_amount       148664 non-null  int64  \n",
            " 2   rate_of_interest  112227 non-null  float64\n",
            " 3   term              148623 non-null  float64\n",
            " 4   property_value    133568 non-null  float64\n",
            " 5   income            139518 non-null  float64\n",
            " 6   credit_score      148664 non-null  int64  \n",
            " 7   age               148464 non-null  object \n",
            " 8   status            148664 non-null  int64  \n",
            " 9   dtir1             124549 non-null  float64\n",
            "dtypes: float64(5), int64(3), object(2)\n",
            "memory usage: 12.5+ MB\n"
          ]
        }
      ]
    },
    {
      "cell_type": "markdown",
      "source": [
        "### Análise valores nulos e duplicados\n",
        "\n",
        "Resolvemos os dados duplicados e agora iremos resolver os dados faltantes."
      ],
      "metadata": {
        "id": "GWMoJPemB-Of"
      }
    },
    {
      "cell_type": "code",
      "source": [
        "imputer = SimpleImputer()\n",
        "df[['rate_of_interest', 'term','property_value','income','dtir1']] = imputer.fit_transform(df[['rate_of_interest', 'term','property_value','income','dtir1']])"
      ],
      "metadata": {
        "id": "3EU9QOfHCDoh"
      },
      "execution_count": 27,
      "outputs": []
    },
    {
      "cell_type": "code",
      "source": [
        "imputer = SimpleImputer(strategy='most_frequent')\n",
        "df[['age']] = imputer.fit_transform(df[['age']])"
      ],
      "metadata": {
        "id": "gkbsXIsUCKKv"
      },
      "execution_count": 28,
      "outputs": []
    },
    {
      "cell_type": "code",
      "source": [
        "df.isna().sum()"
      ],
      "metadata": {
        "colab": {
          "base_uri": "https://localhost:8080/"
        },
        "id": "dE5T0FVOQgey",
        "outputId": "29de7c33-4105-441f-8b96-9684fc9a7b01"
      },
      "execution_count": 29,
      "outputs": [
        {
          "output_type": "execute_result",
          "data": {
            "text/plain": [
              "loan_type           0\n",
              "loan_amount         0\n",
              "rate_of_interest    0\n",
              "term                0\n",
              "property_value      0\n",
              "income              0\n",
              "credit_score        0\n",
              "age                 0\n",
              "status              0\n",
              "dtir1               0\n",
              "dtype: int64"
            ]
          },
          "metadata": {},
          "execution_count": 29
        }
      ]
    },
    {
      "cell_type": "code",
      "source": [
        "df.describe().round(2)"
      ],
      "metadata": {
        "colab": {
          "base_uri": "https://localhost:8080/",
          "height": 262
        },
        "id": "xPBsgO01CrPQ",
        "outputId": "c2e8e65a-2da8-41c9-aa07-a9ff8c5db073"
      },
      "execution_count": 30,
      "outputs": [
        {
          "output_type": "execute_result",
          "data": {
            "text/plain": [
              "       loan_amount  rate_of_interest       term  property_value     income  \\\n",
              "count    148664.00         148664.00  148664.00       148664.00  148664.00   \n",
              "mean     331119.68              4.05     335.14       497900.20    6957.39   \n",
              "std      183910.81              0.49      58.40       341173.91    6293.59   \n",
              "min       16500.00              0.00      96.00         8000.00       0.00   \n",
              "25%      196500.00              3.75     360.00       288000.00    3840.00   \n",
              "50%      296500.00              4.05     360.00       458000.00    6000.00   \n",
              "75%      436500.00              4.25     360.00       598000.00    8280.00   \n",
              "max     3576500.00              8.00     360.00     16508000.00  578580.00   \n",
              "\n",
              "       credit_score     status      dtir1  \n",
              "count     148664.00  148664.00  148664.00  \n",
              "mean         699.79       0.25      37.73  \n",
              "std          115.88       0.43       9.65  \n",
              "min          500.00       0.00       5.00  \n",
              "25%          599.00       0.00      33.00  \n",
              "50%          699.00       0.00      37.73  \n",
              "75%          800.00       0.00      44.00  \n",
              "max          900.00       1.00      61.00  "
            ],
            "text/html": [
              "\n",
              "  <div id=\"df-ba855558-ded0-457c-967f-0f4bc3650176\">\n",
              "    <div class=\"colab-df-container\">\n",
              "      <div>\n",
              "<style scoped>\n",
              "    .dataframe tbody tr th:only-of-type {\n",
              "        vertical-align: middle;\n",
              "    }\n",
              "\n",
              "    .dataframe tbody tr th {\n",
              "        vertical-align: top;\n",
              "    }\n",
              "\n",
              "    .dataframe thead th {\n",
              "        text-align: right;\n",
              "    }\n",
              "</style>\n",
              "<table border=\"1\" class=\"dataframe\">\n",
              "  <thead>\n",
              "    <tr style=\"text-align: right;\">\n",
              "      <th></th>\n",
              "      <th>loan_amount</th>\n",
              "      <th>rate_of_interest</th>\n",
              "      <th>term</th>\n",
              "      <th>property_value</th>\n",
              "      <th>income</th>\n",
              "      <th>credit_score</th>\n",
              "      <th>status</th>\n",
              "      <th>dtir1</th>\n",
              "    </tr>\n",
              "  </thead>\n",
              "  <tbody>\n",
              "    <tr>\n",
              "      <th>count</th>\n",
              "      <td>148664.00</td>\n",
              "      <td>148664.00</td>\n",
              "      <td>148664.00</td>\n",
              "      <td>148664.00</td>\n",
              "      <td>148664.00</td>\n",
              "      <td>148664.00</td>\n",
              "      <td>148664.00</td>\n",
              "      <td>148664.00</td>\n",
              "    </tr>\n",
              "    <tr>\n",
              "      <th>mean</th>\n",
              "      <td>331119.68</td>\n",
              "      <td>4.05</td>\n",
              "      <td>335.14</td>\n",
              "      <td>497900.20</td>\n",
              "      <td>6957.39</td>\n",
              "      <td>699.79</td>\n",
              "      <td>0.25</td>\n",
              "      <td>37.73</td>\n",
              "    </tr>\n",
              "    <tr>\n",
              "      <th>std</th>\n",
              "      <td>183910.81</td>\n",
              "      <td>0.49</td>\n",
              "      <td>58.40</td>\n",
              "      <td>341173.91</td>\n",
              "      <td>6293.59</td>\n",
              "      <td>115.88</td>\n",
              "      <td>0.43</td>\n",
              "      <td>9.65</td>\n",
              "    </tr>\n",
              "    <tr>\n",
              "      <th>min</th>\n",
              "      <td>16500.00</td>\n",
              "      <td>0.00</td>\n",
              "      <td>96.00</td>\n",
              "      <td>8000.00</td>\n",
              "      <td>0.00</td>\n",
              "      <td>500.00</td>\n",
              "      <td>0.00</td>\n",
              "      <td>5.00</td>\n",
              "    </tr>\n",
              "    <tr>\n",
              "      <th>25%</th>\n",
              "      <td>196500.00</td>\n",
              "      <td>3.75</td>\n",
              "      <td>360.00</td>\n",
              "      <td>288000.00</td>\n",
              "      <td>3840.00</td>\n",
              "      <td>599.00</td>\n",
              "      <td>0.00</td>\n",
              "      <td>33.00</td>\n",
              "    </tr>\n",
              "    <tr>\n",
              "      <th>50%</th>\n",
              "      <td>296500.00</td>\n",
              "      <td>4.05</td>\n",
              "      <td>360.00</td>\n",
              "      <td>458000.00</td>\n",
              "      <td>6000.00</td>\n",
              "      <td>699.00</td>\n",
              "      <td>0.00</td>\n",
              "      <td>37.73</td>\n",
              "    </tr>\n",
              "    <tr>\n",
              "      <th>75%</th>\n",
              "      <td>436500.00</td>\n",
              "      <td>4.25</td>\n",
              "      <td>360.00</td>\n",
              "      <td>598000.00</td>\n",
              "      <td>8280.00</td>\n",
              "      <td>800.00</td>\n",
              "      <td>0.00</td>\n",
              "      <td>44.00</td>\n",
              "    </tr>\n",
              "    <tr>\n",
              "      <th>max</th>\n",
              "      <td>3576500.00</td>\n",
              "      <td>8.00</td>\n",
              "      <td>360.00</td>\n",
              "      <td>16508000.00</td>\n",
              "      <td>578580.00</td>\n",
              "      <td>900.00</td>\n",
              "      <td>1.00</td>\n",
              "      <td>61.00</td>\n",
              "    </tr>\n",
              "  </tbody>\n",
              "</table>\n",
              "</div>\n",
              "      <button class=\"colab-df-convert\" onclick=\"convertToInteractive('df-ba855558-ded0-457c-967f-0f4bc3650176')\"\n",
              "              title=\"Convert this dataframe to an interactive table.\"\n",
              "              style=\"display:none;\">\n",
              "        \n",
              "  <svg xmlns=\"http://www.w3.org/2000/svg\" height=\"24px\"viewBox=\"0 0 24 24\"\n",
              "       width=\"24px\">\n",
              "    <path d=\"M0 0h24v24H0V0z\" fill=\"none\"/>\n",
              "    <path d=\"M18.56 5.44l.94 2.06.94-2.06 2.06-.94-2.06-.94-.94-2.06-.94 2.06-2.06.94zm-11 1L8.5 8.5l.94-2.06 2.06-.94-2.06-.94L8.5 2.5l-.94 2.06-2.06.94zm10 10l.94 2.06.94-2.06 2.06-.94-2.06-.94-.94-2.06-.94 2.06-2.06.94z\"/><path d=\"M17.41 7.96l-1.37-1.37c-.4-.4-.92-.59-1.43-.59-.52 0-1.04.2-1.43.59L10.3 9.45l-7.72 7.72c-.78.78-.78 2.05 0 2.83L4 21.41c.39.39.9.59 1.41.59.51 0 1.02-.2 1.41-.59l7.78-7.78 2.81-2.81c.8-.78.8-2.07 0-2.86zM5.41 20L4 18.59l7.72-7.72 1.47 1.35L5.41 20z\"/>\n",
              "  </svg>\n",
              "      </button>\n",
              "      \n",
              "  <style>\n",
              "    .colab-df-container {\n",
              "      display:flex;\n",
              "      flex-wrap:wrap;\n",
              "      gap: 12px;\n",
              "    }\n",
              "\n",
              "    .colab-df-convert {\n",
              "      background-color: #E8F0FE;\n",
              "      border: none;\n",
              "      border-radius: 50%;\n",
              "      cursor: pointer;\n",
              "      display: none;\n",
              "      fill: #1967D2;\n",
              "      height: 32px;\n",
              "      padding: 0 0 0 0;\n",
              "      width: 32px;\n",
              "    }\n",
              "\n",
              "    .colab-df-convert:hover {\n",
              "      background-color: #E2EBFA;\n",
              "      box-shadow: 0px 1px 2px rgba(60, 64, 67, 0.3), 0px 1px 3px 1px rgba(60, 64, 67, 0.15);\n",
              "      fill: #174EA6;\n",
              "    }\n",
              "\n",
              "    [theme=dark] .colab-df-convert {\n",
              "      background-color: #3B4455;\n",
              "      fill: #D2E3FC;\n",
              "    }\n",
              "\n",
              "    [theme=dark] .colab-df-convert:hover {\n",
              "      background-color: #434B5C;\n",
              "      box-shadow: 0px 1px 3px 1px rgba(0, 0, 0, 0.15);\n",
              "      filter: drop-shadow(0px 1px 2px rgba(0, 0, 0, 0.3));\n",
              "      fill: #FFFFFF;\n",
              "    }\n",
              "  </style>\n",
              "\n",
              "      <script>\n",
              "        const buttonEl =\n",
              "          document.querySelector('#df-ba855558-ded0-457c-967f-0f4bc3650176 button.colab-df-convert');\n",
              "        buttonEl.style.display =\n",
              "          google.colab.kernel.accessAllowed ? 'block' : 'none';\n",
              "\n",
              "        async function convertToInteractive(key) {\n",
              "          const element = document.querySelector('#df-ba855558-ded0-457c-967f-0f4bc3650176');\n",
              "          const dataTable =\n",
              "            await google.colab.kernel.invokeFunction('convertToInteractive',\n",
              "                                                     [key], {});\n",
              "          if (!dataTable) return;\n",
              "\n",
              "          const docLinkHtml = 'Like what you see? Visit the ' +\n",
              "            '<a target=\"_blank\" href=https://colab.research.google.com/notebooks/data_table.ipynb>data table notebook</a>'\n",
              "            + ' to learn more about interactive tables.';\n",
              "          element.innerHTML = '';\n",
              "          dataTable['output_type'] = 'display_data';\n",
              "          await google.colab.output.renderOutput(dataTable, element);\n",
              "          const docLink = document.createElement('div');\n",
              "          docLink.innerHTML = docLinkHtml;\n",
              "          element.appendChild(docLink);\n",
              "        }\n",
              "      </script>\n",
              "    </div>\n",
              "  </div>\n",
              "  "
            ],
            "application/vnd.google.colaboratory.module+javascript": "\n      import \"https://ssl.gstatic.com/colaboratory/data_table/fb998edc550c7947/data_table.js\";\n\n      window.createDataTable({\n        data: [[\"count\",\n{\n            'v': 148664.0,\n            'f': \"148664.0\",\n        },\n{\n            'v': 148664.0,\n            'f': \"148664.0\",\n        },\n{\n            'v': 148664.0,\n            'f': \"148664.0\",\n        },\n{\n            'v': 148664.0,\n            'f': \"148664.0\",\n        },\n{\n            'v': 148664.0,\n            'f': \"148664.0\",\n        },\n{\n            'v': 148664.0,\n            'f': \"148664.0\",\n        },\n{\n            'v': 148664.0,\n            'f': \"148664.0\",\n        },\n{\n            'v': 148664.0,\n            'f': \"148664.0\",\n        }],\n [\"mean\",\n{\n            'v': 331119.68,\n            'f': \"331119.68\",\n        },\n{\n            'v': 4.05,\n            'f': \"4.05\",\n        },\n{\n            'v': 335.14,\n            'f': \"335.14\",\n        },\n{\n            'v': 497900.2,\n            'f': \"497900.2\",\n        },\n{\n            'v': 6957.39,\n            'f': \"6957.39\",\n        },\n{\n            'v': 699.79,\n            'f': \"699.79\",\n        },\n{\n            'v': 0.25,\n            'f': \"0.25\",\n        },\n{\n            'v': 37.73,\n            'f': \"37.73\",\n        }],\n [\"std\",\n{\n            'v': 183910.81,\n            'f': \"183910.81\",\n        },\n{\n            'v': 0.49,\n            'f': \"0.49\",\n        },\n{\n            'v': 58.4,\n            'f': \"58.4\",\n        },\n{\n            'v': 341173.91,\n            'f': \"341173.91\",\n        },\n{\n            'v': 6293.59,\n            'f': \"6293.59\",\n        },\n{\n            'v': 115.88,\n            'f': \"115.88\",\n        },\n{\n            'v': 0.43,\n            'f': \"0.43\",\n        },\n{\n            'v': 9.65,\n            'f': \"9.65\",\n        }],\n [\"min\",\n{\n            'v': 16500.0,\n            'f': \"16500.0\",\n        },\n{\n            'v': 0.0,\n            'f': \"0.0\",\n        },\n{\n            'v': 96.0,\n            'f': \"96.0\",\n        },\n{\n            'v': 8000.0,\n            'f': \"8000.0\",\n        },\n{\n            'v': 0.0,\n            'f': \"0.0\",\n        },\n{\n            'v': 500.0,\n            'f': \"500.0\",\n        },\n{\n            'v': 0.0,\n            'f': \"0.0\",\n        },\n{\n            'v': 5.0,\n            'f': \"5.0\",\n        }],\n [\"25%\",\n{\n            'v': 196500.0,\n            'f': \"196500.0\",\n        },\n{\n            'v': 3.75,\n            'f': \"3.75\",\n        },\n{\n            'v': 360.0,\n            'f': \"360.0\",\n        },\n{\n            'v': 288000.0,\n            'f': \"288000.0\",\n        },\n{\n            'v': 3840.0,\n            'f': \"3840.0\",\n        },\n{\n            'v': 599.0,\n            'f': \"599.0\",\n        },\n{\n            'v': 0.0,\n            'f': \"0.0\",\n        },\n{\n            'v': 33.0,\n            'f': \"33.0\",\n        }],\n [\"50%\",\n{\n            'v': 296500.0,\n            'f': \"296500.0\",\n        },\n{\n            'v': 4.05,\n            'f': \"4.05\",\n        },\n{\n            'v': 360.0,\n            'f': \"360.0\",\n        },\n{\n            'v': 458000.0,\n            'f': \"458000.0\",\n        },\n{\n            'v': 6000.0,\n            'f': \"6000.0\",\n        },\n{\n            'v': 699.0,\n            'f': \"699.0\",\n        },\n{\n            'v': 0.0,\n            'f': \"0.0\",\n        },\n{\n            'v': 37.73,\n            'f': \"37.73\",\n        }],\n [\"75%\",\n{\n            'v': 436500.0,\n            'f': \"436500.0\",\n        },\n{\n            'v': 4.25,\n            'f': \"4.25\",\n        },\n{\n            'v': 360.0,\n            'f': \"360.0\",\n        },\n{\n            'v': 598000.0,\n            'f': \"598000.0\",\n        },\n{\n            'v': 8280.0,\n            'f': \"8280.0\",\n        },\n{\n            'v': 800.0,\n            'f': \"800.0\",\n        },\n{\n            'v': 0.0,\n            'f': \"0.0\",\n        },\n{\n            'v': 44.0,\n            'f': \"44.0\",\n        }],\n [\"max\",\n{\n            'v': 3576500.0,\n            'f': \"3576500.0\",\n        },\n{\n            'v': 8.0,\n            'f': \"8.0\",\n        },\n{\n            'v': 360.0,\n            'f': \"360.0\",\n        },\n{\n            'v': 16508000.0,\n            'f': \"16508000.0\",\n        },\n{\n            'v': 578580.0,\n            'f': \"578580.0\",\n        },\n{\n            'v': 900.0,\n            'f': \"900.0\",\n        },\n{\n            'v': 1.0,\n            'f': \"1.0\",\n        },\n{\n            'v': 61.0,\n            'f': \"61.0\",\n        }]],\n        columns: [[\"string\", \"index\"], [\"number\", \"loan_amount\"], [\"number\", \"rate_of_interest\"], [\"number\", \"term\"], [\"number\", \"property_value\"], [\"number\", \"income\"], [\"number\", \"credit_score\"], [\"number\", \"status\"], [\"number\", \"dtir1\"]],\n        columnOptions: [{\"width\": \"1px\", \"className\": \"index_column\"}],\n        rowsPerPage: 25,\n        helpUrl: \"https://colab.research.google.com/notebooks/data_table.ipynb\",\n        suppressOutputScrolling: true,\n        minimumWidth: undefined,\n      });\n    "
          },
          "metadata": {},
          "execution_count": 30
        }
      ]
    },
    {
      "cell_type": "code",
      "source": [
        "df.dtypes"
      ],
      "metadata": {
        "colab": {
          "base_uri": "https://localhost:8080/"
        },
        "id": "NWDbfmjKDSYK",
        "outputId": "e634642d-ce51-468e-9c65-d76c008eb10e"
      },
      "execution_count": 31,
      "outputs": [
        {
          "output_type": "execute_result",
          "data": {
            "text/plain": [
              "loan_type            object\n",
              "loan_amount           int64\n",
              "rate_of_interest    float64\n",
              "term                float64\n",
              "property_value      float64\n",
              "income              float64\n",
              "credit_score          int64\n",
              "age                  object\n",
              "status                int64\n",
              "dtir1               float64\n",
              "dtype: object"
            ]
          },
          "metadata": {},
          "execution_count": 31
        }
      ]
    },
    {
      "cell_type": "code",
      "source": [
        "df['age'].value_counts(dropna=False)"
      ],
      "metadata": {
        "colab": {
          "base_uri": "https://localhost:8080/"
        },
        "id": "G1AjK0DgDWMq",
        "outputId": "732a8269-1421-4466-afa2-893dfed931b4"
      },
      "execution_count": 32,
      "outputs": [
        {
          "output_type": "execute_result",
          "data": {
            "text/plain": [
              "45-54    34919\n",
              "35-44    32815\n",
              "55-64    32533\n",
              "65-74    20744\n",
              "25-34    19141\n",
              ">74       7175\n",
              "<25       1337\n",
              "Name: age, dtype: int64"
            ]
          },
          "metadata": {},
          "execution_count": 32
        }
      ]
    },
    {
      "cell_type": "markdown",
      "source": [
        "Reparemos aqui que existe algumas variáveis categoricas e isso pode ser ruim para o nosso modelo. Por este motivo criaremos variáveis dummies para essas colunas e assim transformaremos elas em númericas."
      ],
      "metadata": {
        "id": "vZXJsXf5Dmui"
      }
    },
    {
      "cell_type": "code",
      "source": [
        "df = pd.get_dummies(df, columns=['loan_type','age'], drop_first=True)"
      ],
      "metadata": {
        "id": "IAZl_oVbDoBJ"
      },
      "execution_count": 33,
      "outputs": []
    },
    {
      "cell_type": "code",
      "source": [
        "df.info()"
      ],
      "metadata": {
        "colab": {
          "base_uri": "https://localhost:8080/"
        },
        "id": "F55Qf_ZCDrpq",
        "outputId": "acb83380-b03d-4191-d3bd-a6137dc84baf"
      },
      "execution_count": 34,
      "outputs": [
        {
          "output_type": "stream",
          "name": "stdout",
          "text": [
            "<class 'pandas.core.frame.DataFrame'>\n",
            "Int64Index: 148664 entries, 0 to 148669\n",
            "Data columns (total 16 columns):\n",
            " #   Column            Non-Null Count   Dtype  \n",
            "---  ------            --------------   -----  \n",
            " 0   loan_amount       148664 non-null  int64  \n",
            " 1   rate_of_interest  148664 non-null  float64\n",
            " 2   term              148664 non-null  float64\n",
            " 3   property_value    148664 non-null  float64\n",
            " 4   income            148664 non-null  float64\n",
            " 5   credit_score      148664 non-null  int64  \n",
            " 6   status            148664 non-null  int64  \n",
            " 7   dtir1             148664 non-null  float64\n",
            " 8   loan_type_type2   148664 non-null  uint8  \n",
            " 9   loan_type_type3   148664 non-null  uint8  \n",
            " 10  age_35-44         148664 non-null  uint8  \n",
            " 11  age_45-54         148664 non-null  uint8  \n",
            " 12  age_55-64         148664 non-null  uint8  \n",
            " 13  age_65-74         148664 non-null  uint8  \n",
            " 14  age_<25           148664 non-null  uint8  \n",
            " 15  age_>74           148664 non-null  uint8  \n",
            "dtypes: float64(5), int64(3), uint8(8)\n",
            "memory usage: 11.3 MB\n"
          ]
        }
      ]
    },
    {
      "cell_type": "code",
      "source": [
        "pd.set_option(\"display.max_columns\", df.shape[-1]) \n",
        "df.head()"
      ],
      "metadata": {
        "colab": {
          "base_uri": "https://localhost:8080/",
          "height": 197
        },
        "id": "6Um_FEdfDvaS",
        "outputId": "00396a9d-3915-409c-df51-c7ba0133eaa8"
      },
      "execution_count": 35,
      "outputs": [
        {
          "output_type": "execute_result",
          "data": {
            "text/plain": [
              "   loan_amount  rate_of_interest   term  property_value   income  \\\n",
              "0       116500          4.045482  360.0   118000.000000   1740.0   \n",
              "1       206500          4.045482  360.0   497900.200647   4980.0   \n",
              "2       406500          4.560000  360.0   508000.000000   9480.0   \n",
              "3       456500          4.250000  360.0   658000.000000  11880.0   \n",
              "4       696500          4.000000  360.0   758000.000000  10440.0   \n",
              "\n",
              "   credit_score  status      dtir1  loan_type_type2  loan_type_type3  \\\n",
              "0           758       1  45.000000                0                0   \n",
              "1           552       1  37.732932                1                0   \n",
              "2           834       0  46.000000                0                0   \n",
              "3           587       0  42.000000                0                0   \n",
              "4           602       0  39.000000                0                0   \n",
              "\n",
              "   age_35-44  age_45-54  age_55-64  age_65-74  age_<25  age_>74  \n",
              "0          0          0          0          0        0        0  \n",
              "1          0          0          1          0        0        0  \n",
              "2          1          0          0          0        0        0  \n",
              "3          0          1          0          0        0        0  \n",
              "4          0          0          0          0        0        0  "
            ],
            "text/html": [
              "\n",
              "  <div id=\"df-b46ef9cd-8134-4b94-ba6c-b730c989d0f1\">\n",
              "    <div class=\"colab-df-container\">\n",
              "      <div>\n",
              "<style scoped>\n",
              "    .dataframe tbody tr th:only-of-type {\n",
              "        vertical-align: middle;\n",
              "    }\n",
              "\n",
              "    .dataframe tbody tr th {\n",
              "        vertical-align: top;\n",
              "    }\n",
              "\n",
              "    .dataframe thead th {\n",
              "        text-align: right;\n",
              "    }\n",
              "</style>\n",
              "<table border=\"1\" class=\"dataframe\">\n",
              "  <thead>\n",
              "    <tr style=\"text-align: right;\">\n",
              "      <th></th>\n",
              "      <th>loan_amount</th>\n",
              "      <th>rate_of_interest</th>\n",
              "      <th>term</th>\n",
              "      <th>property_value</th>\n",
              "      <th>income</th>\n",
              "      <th>credit_score</th>\n",
              "      <th>status</th>\n",
              "      <th>dtir1</th>\n",
              "      <th>loan_type_type2</th>\n",
              "      <th>loan_type_type3</th>\n",
              "      <th>age_35-44</th>\n",
              "      <th>age_45-54</th>\n",
              "      <th>age_55-64</th>\n",
              "      <th>age_65-74</th>\n",
              "      <th>age_&lt;25</th>\n",
              "      <th>age_&gt;74</th>\n",
              "    </tr>\n",
              "  </thead>\n",
              "  <tbody>\n",
              "    <tr>\n",
              "      <th>0</th>\n",
              "      <td>116500</td>\n",
              "      <td>4.045482</td>\n",
              "      <td>360.0</td>\n",
              "      <td>118000.000000</td>\n",
              "      <td>1740.0</td>\n",
              "      <td>758</td>\n",
              "      <td>1</td>\n",
              "      <td>45.000000</td>\n",
              "      <td>0</td>\n",
              "      <td>0</td>\n",
              "      <td>0</td>\n",
              "      <td>0</td>\n",
              "      <td>0</td>\n",
              "      <td>0</td>\n",
              "      <td>0</td>\n",
              "      <td>0</td>\n",
              "    </tr>\n",
              "    <tr>\n",
              "      <th>1</th>\n",
              "      <td>206500</td>\n",
              "      <td>4.045482</td>\n",
              "      <td>360.0</td>\n",
              "      <td>497900.200647</td>\n",
              "      <td>4980.0</td>\n",
              "      <td>552</td>\n",
              "      <td>1</td>\n",
              "      <td>37.732932</td>\n",
              "      <td>1</td>\n",
              "      <td>0</td>\n",
              "      <td>0</td>\n",
              "      <td>0</td>\n",
              "      <td>1</td>\n",
              "      <td>0</td>\n",
              "      <td>0</td>\n",
              "      <td>0</td>\n",
              "    </tr>\n",
              "    <tr>\n",
              "      <th>2</th>\n",
              "      <td>406500</td>\n",
              "      <td>4.560000</td>\n",
              "      <td>360.0</td>\n",
              "      <td>508000.000000</td>\n",
              "      <td>9480.0</td>\n",
              "      <td>834</td>\n",
              "      <td>0</td>\n",
              "      <td>46.000000</td>\n",
              "      <td>0</td>\n",
              "      <td>0</td>\n",
              "      <td>1</td>\n",
              "      <td>0</td>\n",
              "      <td>0</td>\n",
              "      <td>0</td>\n",
              "      <td>0</td>\n",
              "      <td>0</td>\n",
              "    </tr>\n",
              "    <tr>\n",
              "      <th>3</th>\n",
              "      <td>456500</td>\n",
              "      <td>4.250000</td>\n",
              "      <td>360.0</td>\n",
              "      <td>658000.000000</td>\n",
              "      <td>11880.0</td>\n",
              "      <td>587</td>\n",
              "      <td>0</td>\n",
              "      <td>42.000000</td>\n",
              "      <td>0</td>\n",
              "      <td>0</td>\n",
              "      <td>0</td>\n",
              "      <td>1</td>\n",
              "      <td>0</td>\n",
              "      <td>0</td>\n",
              "      <td>0</td>\n",
              "      <td>0</td>\n",
              "    </tr>\n",
              "    <tr>\n",
              "      <th>4</th>\n",
              "      <td>696500</td>\n",
              "      <td>4.000000</td>\n",
              "      <td>360.0</td>\n",
              "      <td>758000.000000</td>\n",
              "      <td>10440.0</td>\n",
              "      <td>602</td>\n",
              "      <td>0</td>\n",
              "      <td>39.000000</td>\n",
              "      <td>0</td>\n",
              "      <td>0</td>\n",
              "      <td>0</td>\n",
              "      <td>0</td>\n",
              "      <td>0</td>\n",
              "      <td>0</td>\n",
              "      <td>0</td>\n",
              "      <td>0</td>\n",
              "    </tr>\n",
              "  </tbody>\n",
              "</table>\n",
              "</div>\n",
              "      <button class=\"colab-df-convert\" onclick=\"convertToInteractive('df-b46ef9cd-8134-4b94-ba6c-b730c989d0f1')\"\n",
              "              title=\"Convert this dataframe to an interactive table.\"\n",
              "              style=\"display:none;\">\n",
              "        \n",
              "  <svg xmlns=\"http://www.w3.org/2000/svg\" height=\"24px\"viewBox=\"0 0 24 24\"\n",
              "       width=\"24px\">\n",
              "    <path d=\"M0 0h24v24H0V0z\" fill=\"none\"/>\n",
              "    <path d=\"M18.56 5.44l.94 2.06.94-2.06 2.06-.94-2.06-.94-.94-2.06-.94 2.06-2.06.94zm-11 1L8.5 8.5l.94-2.06 2.06-.94-2.06-.94L8.5 2.5l-.94 2.06-2.06.94zm10 10l.94 2.06.94-2.06 2.06-.94-2.06-.94-.94-2.06-.94 2.06-2.06.94z\"/><path d=\"M17.41 7.96l-1.37-1.37c-.4-.4-.92-.59-1.43-.59-.52 0-1.04.2-1.43.59L10.3 9.45l-7.72 7.72c-.78.78-.78 2.05 0 2.83L4 21.41c.39.39.9.59 1.41.59.51 0 1.02-.2 1.41-.59l7.78-7.78 2.81-2.81c.8-.78.8-2.07 0-2.86zM5.41 20L4 18.59l7.72-7.72 1.47 1.35L5.41 20z\"/>\n",
              "  </svg>\n",
              "      </button>\n",
              "      \n",
              "  <style>\n",
              "    .colab-df-container {\n",
              "      display:flex;\n",
              "      flex-wrap:wrap;\n",
              "      gap: 12px;\n",
              "    }\n",
              "\n",
              "    .colab-df-convert {\n",
              "      background-color: #E8F0FE;\n",
              "      border: none;\n",
              "      border-radius: 50%;\n",
              "      cursor: pointer;\n",
              "      display: none;\n",
              "      fill: #1967D2;\n",
              "      height: 32px;\n",
              "      padding: 0 0 0 0;\n",
              "      width: 32px;\n",
              "    }\n",
              "\n",
              "    .colab-df-convert:hover {\n",
              "      background-color: #E2EBFA;\n",
              "      box-shadow: 0px 1px 2px rgba(60, 64, 67, 0.3), 0px 1px 3px 1px rgba(60, 64, 67, 0.15);\n",
              "      fill: #174EA6;\n",
              "    }\n",
              "\n",
              "    [theme=dark] .colab-df-convert {\n",
              "      background-color: #3B4455;\n",
              "      fill: #D2E3FC;\n",
              "    }\n",
              "\n",
              "    [theme=dark] .colab-df-convert:hover {\n",
              "      background-color: #434B5C;\n",
              "      box-shadow: 0px 1px 3px 1px rgba(0, 0, 0, 0.15);\n",
              "      filter: drop-shadow(0px 1px 2px rgba(0, 0, 0, 0.3));\n",
              "      fill: #FFFFFF;\n",
              "    }\n",
              "  </style>\n",
              "\n",
              "      <script>\n",
              "        const buttonEl =\n",
              "          document.querySelector('#df-b46ef9cd-8134-4b94-ba6c-b730c989d0f1 button.colab-df-convert');\n",
              "        buttonEl.style.display =\n",
              "          google.colab.kernel.accessAllowed ? 'block' : 'none';\n",
              "\n",
              "        async function convertToInteractive(key) {\n",
              "          const element = document.querySelector('#df-b46ef9cd-8134-4b94-ba6c-b730c989d0f1');\n",
              "          const dataTable =\n",
              "            await google.colab.kernel.invokeFunction('convertToInteractive',\n",
              "                                                     [key], {});\n",
              "          if (!dataTable) return;\n",
              "\n",
              "          const docLinkHtml = 'Like what you see? Visit the ' +\n",
              "            '<a target=\"_blank\" href=https://colab.research.google.com/notebooks/data_table.ipynb>data table notebook</a>'\n",
              "            + ' to learn more about interactive tables.';\n",
              "          element.innerHTML = '';\n",
              "          dataTable['output_type'] = 'display_data';\n",
              "          await google.colab.output.renderOutput(dataTable, element);\n",
              "          const docLink = document.createElement('div');\n",
              "          docLink.innerHTML = docLinkHtml;\n",
              "          element.appendChild(docLink);\n",
              "        }\n",
              "      </script>\n",
              "    </div>\n",
              "  </div>\n",
              "  "
            ],
            "application/vnd.google.colaboratory.module+javascript": "\n      import \"https://ssl.gstatic.com/colaboratory/data_table/fb998edc550c7947/data_table.js\";\n\n      window.createDataTable({\n        data: [[{\n            'v': 0,\n            'f': \"0\",\n        },\n{\n            'v': 116500,\n            'f': \"116500\",\n        },\n{\n            'v': 4.045481969579513,\n            'f': \"4.045481969579513\",\n        },\n{\n            'v': 360.0,\n            'f': \"360.0\",\n        },\n{\n            'v': 118000.0,\n            'f': \"118000.0\",\n        },\n{\n            'v': 1740.0,\n            'f': \"1740.0\",\n        },\n{\n            'v': 758,\n            'f': \"758\",\n        },\n{\n            'v': 1,\n            'f': \"1\",\n        },\n{\n            'v': 45.0,\n            'f': \"45.0\",\n        },\n{\n            'v': 0,\n            'f': \"0\",\n        },\n{\n            'v': 0,\n            'f': \"0\",\n        },\n{\n            'v': 0,\n            'f': \"0\",\n        },\n{\n            'v': 0,\n            'f': \"0\",\n        },\n{\n            'v': 0,\n            'f': \"0\",\n        },\n{\n            'v': 0,\n            'f': \"0\",\n        },\n{\n            'v': 0,\n            'f': \"0\",\n        },\n{\n            'v': 0,\n            'f': \"0\",\n        }],\n [{\n            'v': 1,\n            'f': \"1\",\n        },\n{\n            'v': 206500,\n            'f': \"206500\",\n        },\n{\n            'v': 4.045481969579513,\n            'f': \"4.045481969579513\",\n        },\n{\n            'v': 360.0,\n            'f': \"360.0\",\n        },\n{\n            'v': 497900.2006468615,\n            'f': \"497900.2006468615\",\n        },\n{\n            'v': 4980.0,\n            'f': \"4980.0\",\n        },\n{\n            'v': 552,\n            'f': \"552\",\n        },\n{\n            'v': 1,\n            'f': \"1\",\n        },\n{\n            'v': 37.73293242017198,\n            'f': \"37.73293242017198\",\n        },\n{\n            'v': 1,\n            'f': \"1\",\n        },\n{\n            'v': 0,\n            'f': \"0\",\n        },\n{\n            'v': 0,\n            'f': \"0\",\n        },\n{\n            'v': 0,\n            'f': \"0\",\n        },\n{\n            'v': 1,\n            'f': \"1\",\n        },\n{\n            'v': 0,\n            'f': \"0\",\n        },\n{\n            'v': 0,\n            'f': \"0\",\n        },\n{\n            'v': 0,\n            'f': \"0\",\n        }],\n [{\n            'v': 2,\n            'f': \"2\",\n        },\n{\n            'v': 406500,\n            'f': \"406500\",\n        },\n{\n            'v': 4.56,\n            'f': \"4.56\",\n        },\n{\n            'v': 360.0,\n            'f': \"360.0\",\n        },\n{\n            'v': 508000.0,\n            'f': \"508000.0\",\n        },\n{\n            'v': 9480.0,\n            'f': \"9480.0\",\n        },\n{\n            'v': 834,\n            'f': \"834\",\n        },\n{\n            'v': 0,\n            'f': \"0\",\n        },\n{\n            'v': 46.0,\n            'f': \"46.0\",\n        },\n{\n            'v': 0,\n            'f': \"0\",\n        },\n{\n            'v': 0,\n            'f': \"0\",\n        },\n{\n            'v': 1,\n            'f': \"1\",\n        },\n{\n            'v': 0,\n            'f': \"0\",\n        },\n{\n            'v': 0,\n            'f': \"0\",\n        },\n{\n            'v': 0,\n            'f': \"0\",\n        },\n{\n            'v': 0,\n            'f': \"0\",\n        },\n{\n            'v': 0,\n            'f': \"0\",\n        }],\n [{\n            'v': 3,\n            'f': \"3\",\n        },\n{\n            'v': 456500,\n            'f': \"456500\",\n        },\n{\n            'v': 4.25,\n            'f': \"4.25\",\n        },\n{\n            'v': 360.0,\n            'f': \"360.0\",\n        },\n{\n            'v': 658000.0,\n            'f': \"658000.0\",\n        },\n{\n            'v': 11880.0,\n            'f': \"11880.0\",\n        },\n{\n            'v': 587,\n            'f': \"587\",\n        },\n{\n            'v': 0,\n            'f': \"0\",\n        },\n{\n            'v': 42.0,\n            'f': \"42.0\",\n        },\n{\n            'v': 0,\n            'f': \"0\",\n        },\n{\n            'v': 0,\n            'f': \"0\",\n        },\n{\n            'v': 0,\n            'f': \"0\",\n        },\n{\n            'v': 1,\n            'f': \"1\",\n        },\n{\n            'v': 0,\n            'f': \"0\",\n        },\n{\n            'v': 0,\n            'f': \"0\",\n        },\n{\n            'v': 0,\n            'f': \"0\",\n        },\n{\n            'v': 0,\n            'f': \"0\",\n        }],\n [{\n            'v': 4,\n            'f': \"4\",\n        },\n{\n            'v': 696500,\n            'f': \"696500\",\n        },\n{\n            'v': 4.0,\n            'f': \"4.0\",\n        },\n{\n            'v': 360.0,\n            'f': \"360.0\",\n        },\n{\n            'v': 758000.0,\n            'f': \"758000.0\",\n        },\n{\n            'v': 10440.0,\n            'f': \"10440.0\",\n        },\n{\n            'v': 602,\n            'f': \"602\",\n        },\n{\n            'v': 0,\n            'f': \"0\",\n        },\n{\n            'v': 39.0,\n            'f': \"39.0\",\n        },\n{\n            'v': 0,\n            'f': \"0\",\n        },\n{\n            'v': 0,\n            'f': \"0\",\n        },\n{\n            'v': 0,\n            'f': \"0\",\n        },\n{\n            'v': 0,\n            'f': \"0\",\n        },\n{\n            'v': 0,\n            'f': \"0\",\n        },\n{\n            'v': 0,\n            'f': \"0\",\n        },\n{\n            'v': 0,\n            'f': \"0\",\n        },\n{\n            'v': 0,\n            'f': \"0\",\n        }]],\n        columns: [[\"number\", \"index\"], [\"number\", \"loan_amount\"], [\"number\", \"rate_of_interest\"], [\"number\", \"term\"], [\"number\", \"property_value\"], [\"number\", \"income\"], [\"number\", \"credit_score\"], [\"number\", \"status\"], [\"number\", \"dtir1\"], [\"number\", \"loan_type_type2\"], [\"number\", \"loan_type_type3\"], [\"number\", \"age_35-44\"], [\"number\", \"age_45-54\"], [\"number\", \"age_55-64\"], [\"number\", \"age_65-74\"], [\"number\", \"age_<25\"], [\"number\", \"age_>74\"]],\n        columnOptions: [{\"width\": \"1px\", \"className\": \"index_column\"}],\n        rowsPerPage: 25,\n        helpUrl: \"https://colab.research.google.com/notebooks/data_table.ipynb\",\n        suppressOutputScrolling: true,\n        minimumWidth: undefined,\n      });\n    "
          },
          "metadata": {},
          "execution_count": 35
        }
      ]
    },
    {
      "cell_type": "code",
      "source": [
        "df.shape"
      ],
      "metadata": {
        "colab": {
          "base_uri": "https://localhost:8080/"
        },
        "id": "zumOX-OjD2lH",
        "outputId": "0fc7c9c0-2c25-42b7-ae98-37ed5baffd62"
      },
      "execution_count": 36,
      "outputs": [
        {
          "output_type": "execute_result",
          "data": {
            "text/plain": [
              "(148664, 16)"
            ]
          },
          "metadata": {},
          "execution_count": 36
        }
      ]
    },
    {
      "cell_type": "markdown",
      "source": [
        "### Criação do DataFrame\n",
        "\n",
        "Criaremos então um série (y) com os rótulos. Faremos isso para na sequência executar o treino e teste. Como a variável target que é estatus, sendo assim, nós a removeremos."
      ],
      "metadata": {
        "id": "-icPNeUuEEB0"
      }
    },
    {
      "cell_type": "code",
      "source": [
        "import janitor as jn\n",
        "\n",
        "X, y = jn.ml.get_features_targets(df, target_columns=\"status\")\n",
        "\n",
        "#x = df.drop('status', axis=1)\n",
        "#y = df['status']"
      ],
      "metadata": {
        "id": "xVK8YOpCEEgF"
      },
      "execution_count": 37,
      "outputs": []
    },
    {
      "cell_type": "code",
      "source": [
        "X"
      ],
      "metadata": {
        "colab": {
          "base_uri": "https://localhost:8080/",
          "height": 502
        },
        "id": "pp-YPkubHlQr",
        "outputId": "98f1dfed-e4ea-431d-cf29-8d8df88105e9"
      },
      "execution_count": 38,
      "outputs": [
        {
          "output_type": "stream",
          "name": "stdout",
          "text": [
            "Warning: total number of rows (148664) exceeds max_rows (20000). Falling back to pandas display.\n"
          ]
        },
        {
          "output_type": "execute_result",
          "data": {
            "text/plain": [
              "        loan_amount  rate_of_interest   term  property_value   income  \\\n",
              "0            116500          4.045482  360.0   118000.000000   1740.0   \n",
              "1            206500          4.045482  360.0   497900.200647   4980.0   \n",
              "2            406500          4.560000  360.0   508000.000000   9480.0   \n",
              "3            456500          4.250000  360.0   658000.000000  11880.0   \n",
              "4            696500          4.000000  360.0   758000.000000  10440.0   \n",
              "...             ...               ...    ...             ...      ...   \n",
              "148665       436500          3.125000  180.0   608000.000000   7860.0   \n",
              "148666       586500          5.190000  360.0   788000.000000   7140.0   \n",
              "148667       446500          3.125000  180.0   728000.000000   6900.0   \n",
              "148668       196500          3.500000  180.0   278000.000000   7140.0   \n",
              "148669       406500          4.375000  240.0   558000.000000   7260.0   \n",
              "\n",
              "        credit_score      dtir1  loan_type_type2  loan_type_type3  age_35-44  \\\n",
              "0                758  45.000000                0                0          0   \n",
              "1                552  37.732932                1                0          0   \n",
              "2                834  46.000000                0                0          1   \n",
              "3                587  42.000000                0                0          0   \n",
              "4                602  39.000000                0                0          0   \n",
              "...              ...        ...              ...              ...        ...   \n",
              "148665           659  48.000000                0                0          0   \n",
              "148666           569  15.000000                0                0          0   \n",
              "148667           702  49.000000                0                0          0   \n",
              "148668           737  29.000000                0                0          0   \n",
              "148669           830  44.000000                0                0          0   \n",
              "\n",
              "        age_45-54  age_55-64  age_65-74  age_<25  age_>74  \n",
              "0               0          0          0        0        0  \n",
              "1               0          1          0        0        0  \n",
              "2               0          0          0        0        0  \n",
              "3               1          0          0        0        0  \n",
              "4               0          0          0        0        0  \n",
              "...           ...        ...        ...      ...      ...  \n",
              "148665          0          1          0        0        0  \n",
              "148666          0          0          0        0        0  \n",
              "148667          1          0          0        0        0  \n",
              "148668          0          1          0        0        0  \n",
              "148669          1          0          0        0        0  \n",
              "\n",
              "[148664 rows x 15 columns]"
            ],
            "text/html": [
              "\n",
              "  <div id=\"df-4f9809d1-5bdc-4c2a-ae6b-00568cf11b72\">\n",
              "    <div class=\"colab-df-container\">\n",
              "      <div>\n",
              "<style scoped>\n",
              "    .dataframe tbody tr th:only-of-type {\n",
              "        vertical-align: middle;\n",
              "    }\n",
              "\n",
              "    .dataframe tbody tr th {\n",
              "        vertical-align: top;\n",
              "    }\n",
              "\n",
              "    .dataframe thead th {\n",
              "        text-align: right;\n",
              "    }\n",
              "</style>\n",
              "<table border=\"1\" class=\"dataframe\">\n",
              "  <thead>\n",
              "    <tr style=\"text-align: right;\">\n",
              "      <th></th>\n",
              "      <th>loan_amount</th>\n",
              "      <th>rate_of_interest</th>\n",
              "      <th>term</th>\n",
              "      <th>property_value</th>\n",
              "      <th>income</th>\n",
              "      <th>credit_score</th>\n",
              "      <th>dtir1</th>\n",
              "      <th>loan_type_type2</th>\n",
              "      <th>loan_type_type3</th>\n",
              "      <th>age_35-44</th>\n",
              "      <th>age_45-54</th>\n",
              "      <th>age_55-64</th>\n",
              "      <th>age_65-74</th>\n",
              "      <th>age_&lt;25</th>\n",
              "      <th>age_&gt;74</th>\n",
              "    </tr>\n",
              "  </thead>\n",
              "  <tbody>\n",
              "    <tr>\n",
              "      <th>0</th>\n",
              "      <td>116500</td>\n",
              "      <td>4.045482</td>\n",
              "      <td>360.0</td>\n",
              "      <td>118000.000000</td>\n",
              "      <td>1740.0</td>\n",
              "      <td>758</td>\n",
              "      <td>45.000000</td>\n",
              "      <td>0</td>\n",
              "      <td>0</td>\n",
              "      <td>0</td>\n",
              "      <td>0</td>\n",
              "      <td>0</td>\n",
              "      <td>0</td>\n",
              "      <td>0</td>\n",
              "      <td>0</td>\n",
              "    </tr>\n",
              "    <tr>\n",
              "      <th>1</th>\n",
              "      <td>206500</td>\n",
              "      <td>4.045482</td>\n",
              "      <td>360.0</td>\n",
              "      <td>497900.200647</td>\n",
              "      <td>4980.0</td>\n",
              "      <td>552</td>\n",
              "      <td>37.732932</td>\n",
              "      <td>1</td>\n",
              "      <td>0</td>\n",
              "      <td>0</td>\n",
              "      <td>0</td>\n",
              "      <td>1</td>\n",
              "      <td>0</td>\n",
              "      <td>0</td>\n",
              "      <td>0</td>\n",
              "    </tr>\n",
              "    <tr>\n",
              "      <th>2</th>\n",
              "      <td>406500</td>\n",
              "      <td>4.560000</td>\n",
              "      <td>360.0</td>\n",
              "      <td>508000.000000</td>\n",
              "      <td>9480.0</td>\n",
              "      <td>834</td>\n",
              "      <td>46.000000</td>\n",
              "      <td>0</td>\n",
              "      <td>0</td>\n",
              "      <td>1</td>\n",
              "      <td>0</td>\n",
              "      <td>0</td>\n",
              "      <td>0</td>\n",
              "      <td>0</td>\n",
              "      <td>0</td>\n",
              "    </tr>\n",
              "    <tr>\n",
              "      <th>3</th>\n",
              "      <td>456500</td>\n",
              "      <td>4.250000</td>\n",
              "      <td>360.0</td>\n",
              "      <td>658000.000000</td>\n",
              "      <td>11880.0</td>\n",
              "      <td>587</td>\n",
              "      <td>42.000000</td>\n",
              "      <td>0</td>\n",
              "      <td>0</td>\n",
              "      <td>0</td>\n",
              "      <td>1</td>\n",
              "      <td>0</td>\n",
              "      <td>0</td>\n",
              "      <td>0</td>\n",
              "      <td>0</td>\n",
              "    </tr>\n",
              "    <tr>\n",
              "      <th>4</th>\n",
              "      <td>696500</td>\n",
              "      <td>4.000000</td>\n",
              "      <td>360.0</td>\n",
              "      <td>758000.000000</td>\n",
              "      <td>10440.0</td>\n",
              "      <td>602</td>\n",
              "      <td>39.000000</td>\n",
              "      <td>0</td>\n",
              "      <td>0</td>\n",
              "      <td>0</td>\n",
              "      <td>0</td>\n",
              "      <td>0</td>\n",
              "      <td>0</td>\n",
              "      <td>0</td>\n",
              "      <td>0</td>\n",
              "    </tr>\n",
              "    <tr>\n",
              "      <th>...</th>\n",
              "      <td>...</td>\n",
              "      <td>...</td>\n",
              "      <td>...</td>\n",
              "      <td>...</td>\n",
              "      <td>...</td>\n",
              "      <td>...</td>\n",
              "      <td>...</td>\n",
              "      <td>...</td>\n",
              "      <td>...</td>\n",
              "      <td>...</td>\n",
              "      <td>...</td>\n",
              "      <td>...</td>\n",
              "      <td>...</td>\n",
              "      <td>...</td>\n",
              "      <td>...</td>\n",
              "    </tr>\n",
              "    <tr>\n",
              "      <th>148665</th>\n",
              "      <td>436500</td>\n",
              "      <td>3.125000</td>\n",
              "      <td>180.0</td>\n",
              "      <td>608000.000000</td>\n",
              "      <td>7860.0</td>\n",
              "      <td>659</td>\n",
              "      <td>48.000000</td>\n",
              "      <td>0</td>\n",
              "      <td>0</td>\n",
              "      <td>0</td>\n",
              "      <td>0</td>\n",
              "      <td>1</td>\n",
              "      <td>0</td>\n",
              "      <td>0</td>\n",
              "      <td>0</td>\n",
              "    </tr>\n",
              "    <tr>\n",
              "      <th>148666</th>\n",
              "      <td>586500</td>\n",
              "      <td>5.190000</td>\n",
              "      <td>360.0</td>\n",
              "      <td>788000.000000</td>\n",
              "      <td>7140.0</td>\n",
              "      <td>569</td>\n",
              "      <td>15.000000</td>\n",
              "      <td>0</td>\n",
              "      <td>0</td>\n",
              "      <td>0</td>\n",
              "      <td>0</td>\n",
              "      <td>0</td>\n",
              "      <td>0</td>\n",
              "      <td>0</td>\n",
              "      <td>0</td>\n",
              "    </tr>\n",
              "    <tr>\n",
              "      <th>148667</th>\n",
              "      <td>446500</td>\n",
              "      <td>3.125000</td>\n",
              "      <td>180.0</td>\n",
              "      <td>728000.000000</td>\n",
              "      <td>6900.0</td>\n",
              "      <td>702</td>\n",
              "      <td>49.000000</td>\n",
              "      <td>0</td>\n",
              "      <td>0</td>\n",
              "      <td>0</td>\n",
              "      <td>1</td>\n",
              "      <td>0</td>\n",
              "      <td>0</td>\n",
              "      <td>0</td>\n",
              "      <td>0</td>\n",
              "    </tr>\n",
              "    <tr>\n",
              "      <th>148668</th>\n",
              "      <td>196500</td>\n",
              "      <td>3.500000</td>\n",
              "      <td>180.0</td>\n",
              "      <td>278000.000000</td>\n",
              "      <td>7140.0</td>\n",
              "      <td>737</td>\n",
              "      <td>29.000000</td>\n",
              "      <td>0</td>\n",
              "      <td>0</td>\n",
              "      <td>0</td>\n",
              "      <td>0</td>\n",
              "      <td>1</td>\n",
              "      <td>0</td>\n",
              "      <td>0</td>\n",
              "      <td>0</td>\n",
              "    </tr>\n",
              "    <tr>\n",
              "      <th>148669</th>\n",
              "      <td>406500</td>\n",
              "      <td>4.375000</td>\n",
              "      <td>240.0</td>\n",
              "      <td>558000.000000</td>\n",
              "      <td>7260.0</td>\n",
              "      <td>830</td>\n",
              "      <td>44.000000</td>\n",
              "      <td>0</td>\n",
              "      <td>0</td>\n",
              "      <td>0</td>\n",
              "      <td>1</td>\n",
              "      <td>0</td>\n",
              "      <td>0</td>\n",
              "      <td>0</td>\n",
              "      <td>0</td>\n",
              "    </tr>\n",
              "  </tbody>\n",
              "</table>\n",
              "<p>148664 rows × 15 columns</p>\n",
              "</div>\n",
              "      <button class=\"colab-df-convert\" onclick=\"convertToInteractive('df-4f9809d1-5bdc-4c2a-ae6b-00568cf11b72')\"\n",
              "              title=\"Convert this dataframe to an interactive table.\"\n",
              "              style=\"display:none;\">\n",
              "        \n",
              "  <svg xmlns=\"http://www.w3.org/2000/svg\" height=\"24px\"viewBox=\"0 0 24 24\"\n",
              "       width=\"24px\">\n",
              "    <path d=\"M0 0h24v24H0V0z\" fill=\"none\"/>\n",
              "    <path d=\"M18.56 5.44l.94 2.06.94-2.06 2.06-.94-2.06-.94-.94-2.06-.94 2.06-2.06.94zm-11 1L8.5 8.5l.94-2.06 2.06-.94-2.06-.94L8.5 2.5l-.94 2.06-2.06.94zm10 10l.94 2.06.94-2.06 2.06-.94-2.06-.94-.94-2.06-.94 2.06-2.06.94z\"/><path d=\"M17.41 7.96l-1.37-1.37c-.4-.4-.92-.59-1.43-.59-.52 0-1.04.2-1.43.59L10.3 9.45l-7.72 7.72c-.78.78-.78 2.05 0 2.83L4 21.41c.39.39.9.59 1.41.59.51 0 1.02-.2 1.41-.59l7.78-7.78 2.81-2.81c.8-.78.8-2.07 0-2.86zM5.41 20L4 18.59l7.72-7.72 1.47 1.35L5.41 20z\"/>\n",
              "  </svg>\n",
              "      </button>\n",
              "      \n",
              "  <style>\n",
              "    .colab-df-container {\n",
              "      display:flex;\n",
              "      flex-wrap:wrap;\n",
              "      gap: 12px;\n",
              "    }\n",
              "\n",
              "    .colab-df-convert {\n",
              "      background-color: #E8F0FE;\n",
              "      border: none;\n",
              "      border-radius: 50%;\n",
              "      cursor: pointer;\n",
              "      display: none;\n",
              "      fill: #1967D2;\n",
              "      height: 32px;\n",
              "      padding: 0 0 0 0;\n",
              "      width: 32px;\n",
              "    }\n",
              "\n",
              "    .colab-df-convert:hover {\n",
              "      background-color: #E2EBFA;\n",
              "      box-shadow: 0px 1px 2px rgba(60, 64, 67, 0.3), 0px 1px 3px 1px rgba(60, 64, 67, 0.15);\n",
              "      fill: #174EA6;\n",
              "    }\n",
              "\n",
              "    [theme=dark] .colab-df-convert {\n",
              "      background-color: #3B4455;\n",
              "      fill: #D2E3FC;\n",
              "    }\n",
              "\n",
              "    [theme=dark] .colab-df-convert:hover {\n",
              "      background-color: #434B5C;\n",
              "      box-shadow: 0px 1px 3px 1px rgba(0, 0, 0, 0.15);\n",
              "      filter: drop-shadow(0px 1px 2px rgba(0, 0, 0, 0.3));\n",
              "      fill: #FFFFFF;\n",
              "    }\n",
              "  </style>\n",
              "\n",
              "      <script>\n",
              "        const buttonEl =\n",
              "          document.querySelector('#df-4f9809d1-5bdc-4c2a-ae6b-00568cf11b72 button.colab-df-convert');\n",
              "        buttonEl.style.display =\n",
              "          google.colab.kernel.accessAllowed ? 'block' : 'none';\n",
              "\n",
              "        async function convertToInteractive(key) {\n",
              "          const element = document.querySelector('#df-4f9809d1-5bdc-4c2a-ae6b-00568cf11b72');\n",
              "          const dataTable =\n",
              "            await google.colab.kernel.invokeFunction('convertToInteractive',\n",
              "                                                     [key], {});\n",
              "          if (!dataTable) return;\n",
              "\n",
              "          const docLinkHtml = 'Like what you see? Visit the ' +\n",
              "            '<a target=\"_blank\" href=https://colab.research.google.com/notebooks/data_table.ipynb>data table notebook</a>'\n",
              "            + ' to learn more about interactive tables.';\n",
              "          element.innerHTML = '';\n",
              "          dataTable['output_type'] = 'display_data';\n",
              "          await google.colab.output.renderOutput(dataTable, element);\n",
              "          const docLink = document.createElement('div');\n",
              "          docLink.innerHTML = docLinkHtml;\n",
              "          element.appendChild(docLink);\n",
              "        }\n",
              "      </script>\n",
              "    </div>\n",
              "  </div>\n",
              "  "
            ]
          },
          "metadata": {},
          "execution_count": 38
        }
      ]
    },
    {
      "cell_type": "code",
      "source": [
        "y"
      ],
      "metadata": {
        "colab": {
          "base_uri": "https://localhost:8080/"
        },
        "id": "vu1N3tN4Humj",
        "outputId": "7393d4cc-68a9-4fb8-850b-7885e83d0180"
      },
      "execution_count": 39,
      "outputs": [
        {
          "output_type": "execute_result",
          "data": {
            "text/plain": [
              "0         1\n",
              "1         1\n",
              "2         0\n",
              "3         0\n",
              "4         0\n",
              "         ..\n",
              "148665    0\n",
              "148666    0\n",
              "148667    0\n",
              "148668    0\n",
              "148669    0\n",
              "Name: status, Length: 148664, dtype: int64"
            ]
          },
          "metadata": {},
          "execution_count": 39
        }
      ]
    },
    {
      "cell_type": "code",
      "source": [
        "X.shape"
      ],
      "metadata": {
        "colab": {
          "base_uri": "https://localhost:8080/"
        },
        "id": "R8Kle8zIHxrU",
        "outputId": "0beb611c-54ff-402d-a584-ccd3fcc5c6af"
      },
      "execution_count": 40,
      "outputs": [
        {
          "output_type": "execute_result",
          "data": {
            "text/plain": [
              "(148664, 15)"
            ]
          },
          "metadata": {},
          "execution_count": 40
        }
      ]
    },
    {
      "cell_type": "code",
      "source": [
        "y.shape"
      ],
      "metadata": {
        "colab": {
          "base_uri": "https://localhost:8080/"
        },
        "id": "bteGTmOkH0tU",
        "outputId": "b26fb2e0-ea51-4d20-cac5-379118d48fc6"
      },
      "execution_count": 41,
      "outputs": [
        {
          "output_type": "execute_result",
          "data": {
            "text/plain": [
              "(148664,)"
            ]
          },
          "metadata": {},
          "execution_count": 41
        }
      ]
    },
    {
      "cell_type": "markdown",
      "source": [
        "### Separação da amostra\n",
        "\n",
        "Usaremos o scikit-learn para extrair 30% dos dados para testes. Usamos random_state 42 para eliminar a aleatoriedade, pois queremos comprar diferentes modelos."
      ],
      "metadata": {
        "id": "QTHjQ3FuH4k9"
      }
    },
    {
      "cell_type": "code",
      "source": [
        "X_train, X_test, y_train, y_test = train_test_split(X, y, test_size=.3)"
      ],
      "metadata": {
        "id": "EpdcPSbcH85q"
      },
      "execution_count": 42,
      "outputs": []
    },
    {
      "cell_type": "code",
      "source": [
        "X_train"
      ],
      "metadata": {
        "colab": {
          "base_uri": "https://localhost:8080/",
          "height": 522
        },
        "id": "sh62gzigPBV8",
        "outputId": "b9e29848-fbcf-47d0-aa0e-e214090d6df7"
      },
      "execution_count": 43,
      "outputs": [
        {
          "output_type": "stream",
          "name": "stdout",
          "text": [
            "Warning: total number of rows (104064) exceeds max_rows (20000). Falling back to pandas display.\n"
          ]
        },
        {
          "output_type": "execute_result",
          "data": {
            "text/plain": [
              "        loan_amount  rate_of_interest   term  property_value        income  \\\n",
              "96393        356500          3.990000  360.0        398000.0   9060.000000   \n",
              "125680       256500          3.375000  180.0        318000.0   3120.000000   \n",
              "143206       296500          4.125000  360.0        358000.0   5460.000000   \n",
              "70180        426500          2.990000  360.0        458000.0   6957.392164   \n",
              "26531        216500          3.500000  300.0        738000.0   3840.000000   \n",
              "...             ...               ...    ...             ...           ...   \n",
              "76446        326500          3.875000  180.0        608000.0   7620.000000   \n",
              "110835       356500          3.375000  360.0        708000.0   4440.000000   \n",
              "21810        106500          4.500000  360.0        128000.0   2640.000000   \n",
              "10591        426500          3.560000  360.0        628000.0   7740.000000   \n",
              "25820        246500          4.045482  360.0        508000.0  13140.000000   \n",
              "\n",
              "        credit_score      dtir1  loan_type_type2  loan_type_type3  age_35-44  \\\n",
              "96393            748  33.000000                0                0          0   \n",
              "125680           781  47.000000                0                0          0   \n",
              "143206           754  47.000000                1                0          0   \n",
              "70180            895  37.732932                0                1          0   \n",
              "26531            600  48.000000                0                0          0   \n",
              "...              ...        ...              ...              ...        ...   \n",
              "76446            753  33.000000                0                0          0   \n",
              "110835           678  37.000000                0                0          1   \n",
              "21810            761  37.000000                0                0          0   \n",
              "10591            622  40.000000                0                0          0   \n",
              "25820            704  47.000000                0                0          1   \n",
              "\n",
              "        age_45-54  age_55-64  age_65-74  age_<25  age_>74  \n",
              "96393           1          0          0        0        0  \n",
              "125680          0          0          0        0        0  \n",
              "143206          0          1          0        0        0  \n",
              "70180           1          0          0        0        0  \n",
              "26531           0          1          0        0        0  \n",
              "...           ...        ...        ...      ...      ...  \n",
              "76446           0          0          1        0        0  \n",
              "110835          0          0          0        0        0  \n",
              "21810           0          0          0        0        0  \n",
              "10591           1          0          0        0        0  \n",
              "25820           0          0          0        0        0  \n",
              "\n",
              "[104064 rows x 15 columns]"
            ],
            "text/html": [
              "\n",
              "  <div id=\"df-c15421a5-6603-47f8-a6df-16367c009484\">\n",
              "    <div class=\"colab-df-container\">\n",
              "      <div>\n",
              "<style scoped>\n",
              "    .dataframe tbody tr th:only-of-type {\n",
              "        vertical-align: middle;\n",
              "    }\n",
              "\n",
              "    .dataframe tbody tr th {\n",
              "        vertical-align: top;\n",
              "    }\n",
              "\n",
              "    .dataframe thead th {\n",
              "        text-align: right;\n",
              "    }\n",
              "</style>\n",
              "<table border=\"1\" class=\"dataframe\">\n",
              "  <thead>\n",
              "    <tr style=\"text-align: right;\">\n",
              "      <th></th>\n",
              "      <th>loan_amount</th>\n",
              "      <th>rate_of_interest</th>\n",
              "      <th>term</th>\n",
              "      <th>property_value</th>\n",
              "      <th>income</th>\n",
              "      <th>credit_score</th>\n",
              "      <th>dtir1</th>\n",
              "      <th>loan_type_type2</th>\n",
              "      <th>loan_type_type3</th>\n",
              "      <th>age_35-44</th>\n",
              "      <th>age_45-54</th>\n",
              "      <th>age_55-64</th>\n",
              "      <th>age_65-74</th>\n",
              "      <th>age_&lt;25</th>\n",
              "      <th>age_&gt;74</th>\n",
              "    </tr>\n",
              "  </thead>\n",
              "  <tbody>\n",
              "    <tr>\n",
              "      <th>96393</th>\n",
              "      <td>356500</td>\n",
              "      <td>3.990000</td>\n",
              "      <td>360.0</td>\n",
              "      <td>398000.0</td>\n",
              "      <td>9060.000000</td>\n",
              "      <td>748</td>\n",
              "      <td>33.000000</td>\n",
              "      <td>0</td>\n",
              "      <td>0</td>\n",
              "      <td>0</td>\n",
              "      <td>1</td>\n",
              "      <td>0</td>\n",
              "      <td>0</td>\n",
              "      <td>0</td>\n",
              "      <td>0</td>\n",
              "    </tr>\n",
              "    <tr>\n",
              "      <th>125680</th>\n",
              "      <td>256500</td>\n",
              "      <td>3.375000</td>\n",
              "      <td>180.0</td>\n",
              "      <td>318000.0</td>\n",
              "      <td>3120.000000</td>\n",
              "      <td>781</td>\n",
              "      <td>47.000000</td>\n",
              "      <td>0</td>\n",
              "      <td>0</td>\n",
              "      <td>0</td>\n",
              "      <td>0</td>\n",
              "      <td>0</td>\n",
              "      <td>0</td>\n",
              "      <td>0</td>\n",
              "      <td>0</td>\n",
              "    </tr>\n",
              "    <tr>\n",
              "      <th>143206</th>\n",
              "      <td>296500</td>\n",
              "      <td>4.125000</td>\n",
              "      <td>360.0</td>\n",
              "      <td>358000.0</td>\n",
              "      <td>5460.000000</td>\n",
              "      <td>754</td>\n",
              "      <td>47.000000</td>\n",
              "      <td>1</td>\n",
              "      <td>0</td>\n",
              "      <td>0</td>\n",
              "      <td>0</td>\n",
              "      <td>1</td>\n",
              "      <td>0</td>\n",
              "      <td>0</td>\n",
              "      <td>0</td>\n",
              "    </tr>\n",
              "    <tr>\n",
              "      <th>70180</th>\n",
              "      <td>426500</td>\n",
              "      <td>2.990000</td>\n",
              "      <td>360.0</td>\n",
              "      <td>458000.0</td>\n",
              "      <td>6957.392164</td>\n",
              "      <td>895</td>\n",
              "      <td>37.732932</td>\n",
              "      <td>0</td>\n",
              "      <td>1</td>\n",
              "      <td>0</td>\n",
              "      <td>1</td>\n",
              "      <td>0</td>\n",
              "      <td>0</td>\n",
              "      <td>0</td>\n",
              "      <td>0</td>\n",
              "    </tr>\n",
              "    <tr>\n",
              "      <th>26531</th>\n",
              "      <td>216500</td>\n",
              "      <td>3.500000</td>\n",
              "      <td>300.0</td>\n",
              "      <td>738000.0</td>\n",
              "      <td>3840.000000</td>\n",
              "      <td>600</td>\n",
              "      <td>48.000000</td>\n",
              "      <td>0</td>\n",
              "      <td>0</td>\n",
              "      <td>0</td>\n",
              "      <td>0</td>\n",
              "      <td>1</td>\n",
              "      <td>0</td>\n",
              "      <td>0</td>\n",
              "      <td>0</td>\n",
              "    </tr>\n",
              "    <tr>\n",
              "      <th>...</th>\n",
              "      <td>...</td>\n",
              "      <td>...</td>\n",
              "      <td>...</td>\n",
              "      <td>...</td>\n",
              "      <td>...</td>\n",
              "      <td>...</td>\n",
              "      <td>...</td>\n",
              "      <td>...</td>\n",
              "      <td>...</td>\n",
              "      <td>...</td>\n",
              "      <td>...</td>\n",
              "      <td>...</td>\n",
              "      <td>...</td>\n",
              "      <td>...</td>\n",
              "      <td>...</td>\n",
              "    </tr>\n",
              "    <tr>\n",
              "      <th>76446</th>\n",
              "      <td>326500</td>\n",
              "      <td>3.875000</td>\n",
              "      <td>180.0</td>\n",
              "      <td>608000.0</td>\n",
              "      <td>7620.000000</td>\n",
              "      <td>753</td>\n",
              "      <td>33.000000</td>\n",
              "      <td>0</td>\n",
              "      <td>0</td>\n",
              "      <td>0</td>\n",
              "      <td>0</td>\n",
              "      <td>0</td>\n",
              "      <td>1</td>\n",
              "      <td>0</td>\n",
              "      <td>0</td>\n",
              "    </tr>\n",
              "    <tr>\n",
              "      <th>110835</th>\n",
              "      <td>356500</td>\n",
              "      <td>3.375000</td>\n",
              "      <td>360.0</td>\n",
              "      <td>708000.0</td>\n",
              "      <td>4440.000000</td>\n",
              "      <td>678</td>\n",
              "      <td>37.000000</td>\n",
              "      <td>0</td>\n",
              "      <td>0</td>\n",
              "      <td>1</td>\n",
              "      <td>0</td>\n",
              "      <td>0</td>\n",
              "      <td>0</td>\n",
              "      <td>0</td>\n",
              "      <td>0</td>\n",
              "    </tr>\n",
              "    <tr>\n",
              "      <th>21810</th>\n",
              "      <td>106500</td>\n",
              "      <td>4.500000</td>\n",
              "      <td>360.0</td>\n",
              "      <td>128000.0</td>\n",
              "      <td>2640.000000</td>\n",
              "      <td>761</td>\n",
              "      <td>37.000000</td>\n",
              "      <td>0</td>\n",
              "      <td>0</td>\n",
              "      <td>0</td>\n",
              "      <td>0</td>\n",
              "      <td>0</td>\n",
              "      <td>0</td>\n",
              "      <td>0</td>\n",
              "      <td>0</td>\n",
              "    </tr>\n",
              "    <tr>\n",
              "      <th>10591</th>\n",
              "      <td>426500</td>\n",
              "      <td>3.560000</td>\n",
              "      <td>360.0</td>\n",
              "      <td>628000.0</td>\n",
              "      <td>7740.000000</td>\n",
              "      <td>622</td>\n",
              "      <td>40.000000</td>\n",
              "      <td>0</td>\n",
              "      <td>0</td>\n",
              "      <td>0</td>\n",
              "      <td>1</td>\n",
              "      <td>0</td>\n",
              "      <td>0</td>\n",
              "      <td>0</td>\n",
              "      <td>0</td>\n",
              "    </tr>\n",
              "    <tr>\n",
              "      <th>25820</th>\n",
              "      <td>246500</td>\n",
              "      <td>4.045482</td>\n",
              "      <td>360.0</td>\n",
              "      <td>508000.0</td>\n",
              "      <td>13140.000000</td>\n",
              "      <td>704</td>\n",
              "      <td>47.000000</td>\n",
              "      <td>0</td>\n",
              "      <td>0</td>\n",
              "      <td>1</td>\n",
              "      <td>0</td>\n",
              "      <td>0</td>\n",
              "      <td>0</td>\n",
              "      <td>0</td>\n",
              "      <td>0</td>\n",
              "    </tr>\n",
              "  </tbody>\n",
              "</table>\n",
              "<p>104064 rows × 15 columns</p>\n",
              "</div>\n",
              "      <button class=\"colab-df-convert\" onclick=\"convertToInteractive('df-c15421a5-6603-47f8-a6df-16367c009484')\"\n",
              "              title=\"Convert this dataframe to an interactive table.\"\n",
              "              style=\"display:none;\">\n",
              "        \n",
              "  <svg xmlns=\"http://www.w3.org/2000/svg\" height=\"24px\"viewBox=\"0 0 24 24\"\n",
              "       width=\"24px\">\n",
              "    <path d=\"M0 0h24v24H0V0z\" fill=\"none\"/>\n",
              "    <path d=\"M18.56 5.44l.94 2.06.94-2.06 2.06-.94-2.06-.94-.94-2.06-.94 2.06-2.06.94zm-11 1L8.5 8.5l.94-2.06 2.06-.94-2.06-.94L8.5 2.5l-.94 2.06-2.06.94zm10 10l.94 2.06.94-2.06 2.06-.94-2.06-.94-.94-2.06-.94 2.06-2.06.94z\"/><path d=\"M17.41 7.96l-1.37-1.37c-.4-.4-.92-.59-1.43-.59-.52 0-1.04.2-1.43.59L10.3 9.45l-7.72 7.72c-.78.78-.78 2.05 0 2.83L4 21.41c.39.39.9.59 1.41.59.51 0 1.02-.2 1.41-.59l7.78-7.78 2.81-2.81c.8-.78.8-2.07 0-2.86zM5.41 20L4 18.59l7.72-7.72 1.47 1.35L5.41 20z\"/>\n",
              "  </svg>\n",
              "      </button>\n",
              "      \n",
              "  <style>\n",
              "    .colab-df-container {\n",
              "      display:flex;\n",
              "      flex-wrap:wrap;\n",
              "      gap: 12px;\n",
              "    }\n",
              "\n",
              "    .colab-df-convert {\n",
              "      background-color: #E8F0FE;\n",
              "      border: none;\n",
              "      border-radius: 50%;\n",
              "      cursor: pointer;\n",
              "      display: none;\n",
              "      fill: #1967D2;\n",
              "      height: 32px;\n",
              "      padding: 0 0 0 0;\n",
              "      width: 32px;\n",
              "    }\n",
              "\n",
              "    .colab-df-convert:hover {\n",
              "      background-color: #E2EBFA;\n",
              "      box-shadow: 0px 1px 2px rgba(60, 64, 67, 0.3), 0px 1px 3px 1px rgba(60, 64, 67, 0.15);\n",
              "      fill: #174EA6;\n",
              "    }\n",
              "\n",
              "    [theme=dark] .colab-df-convert {\n",
              "      background-color: #3B4455;\n",
              "      fill: #D2E3FC;\n",
              "    }\n",
              "\n",
              "    [theme=dark] .colab-df-convert:hover {\n",
              "      background-color: #434B5C;\n",
              "      box-shadow: 0px 1px 3px 1px rgba(0, 0, 0, 0.15);\n",
              "      filter: drop-shadow(0px 1px 2px rgba(0, 0, 0, 0.3));\n",
              "      fill: #FFFFFF;\n",
              "    }\n",
              "  </style>\n",
              "\n",
              "      <script>\n",
              "        const buttonEl =\n",
              "          document.querySelector('#df-c15421a5-6603-47f8-a6df-16367c009484 button.colab-df-convert');\n",
              "        buttonEl.style.display =\n",
              "          google.colab.kernel.accessAllowed ? 'block' : 'none';\n",
              "\n",
              "        async function convertToInteractive(key) {\n",
              "          const element = document.querySelector('#df-c15421a5-6603-47f8-a6df-16367c009484');\n",
              "          const dataTable =\n",
              "            await google.colab.kernel.invokeFunction('convertToInteractive',\n",
              "                                                     [key], {});\n",
              "          if (!dataTable) return;\n",
              "\n",
              "          const docLinkHtml = 'Like what you see? Visit the ' +\n",
              "            '<a target=\"_blank\" href=https://colab.research.google.com/notebooks/data_table.ipynb>data table notebook</a>'\n",
              "            + ' to learn more about interactive tables.';\n",
              "          element.innerHTML = '';\n",
              "          dataTable['output_type'] = 'display_data';\n",
              "          await google.colab.output.renderOutput(dataTable, element);\n",
              "          const docLink = document.createElement('div');\n",
              "          docLink.innerHTML = docLinkHtml;\n",
              "          element.appendChild(docLink);\n",
              "        }\n",
              "      </script>\n",
              "    </div>\n",
              "  </div>\n",
              "  "
            ]
          },
          "metadata": {},
          "execution_count": 43
        }
      ]
    },
    {
      "cell_type": "code",
      "source": [
        "X_train.shape"
      ],
      "metadata": {
        "colab": {
          "base_uri": "https://localhost:8080/"
        },
        "id": "q_9jrlpsPKLA",
        "outputId": "be8b1ccb-5ad9-4ea1-c4c0-a8580db7eb35"
      },
      "execution_count": 44,
      "outputs": [
        {
          "output_type": "execute_result",
          "data": {
            "text/plain": [
              "(104064, 15)"
            ]
          },
          "metadata": {},
          "execution_count": 44
        }
      ]
    },
    {
      "cell_type": "code",
      "source": [
        "X_test"
      ],
      "metadata": {
        "colab": {
          "base_uri": "https://localhost:8080/",
          "height": 502
        },
        "id": "ARu0fb9OPLER",
        "outputId": "eec5c9e9-6816-4da1-8512-47e6c168a337"
      },
      "execution_count": 45,
      "outputs": [
        {
          "output_type": "stream",
          "name": "stdout",
          "text": [
            "Warning: total number of rows (44600) exceeds max_rows (20000). Falling back to pandas display.\n"
          ]
        },
        {
          "output_type": "execute_result",
          "data": {
            "text/plain": [
              "        loan_amount  rate_of_interest   term  property_value   income  \\\n",
              "23151        296500          4.045482  360.0    4.080000e+05   4740.0   \n",
              "57927        116500          4.500000  360.0    1.980000e+05   2940.0   \n",
              "103698       306500          3.625000  360.0    3.880000e+05   6480.0   \n",
              "8317         576500          3.500000  360.0    5.880000e+05   9000.0   \n",
              "29427        136500          4.750000  360.0    1.680000e+05   2520.0   \n",
              "...             ...               ...    ...             ...      ...   \n",
              "67033        746500          3.750000  360.0    1.188000e+06  20820.0   \n",
              "74893        126500          3.990000  360.0    1.280000e+05   2100.0   \n",
              "50603        606500          3.875000  360.0    7.680000e+05  12900.0   \n",
              "140305       216500          4.045482  360.0    4.979002e+05   3480.0   \n",
              "2631         246500          3.500000  180.0    2.680000e+05   6240.0   \n",
              "\n",
              "        credit_score      dtir1  loan_type_type2  loan_type_type3  age_35-44  \\\n",
              "23151            567  32.000000                0                0          0   \n",
              "57927            724  30.000000                0                0          0   \n",
              "103698           797  28.000000                0                0          0   \n",
              "8317             563  39.000000                1                0          0   \n",
              "29427            770  38.000000                0                0          0   \n",
              "...              ...        ...              ...              ...        ...   \n",
              "67033            835  16.000000                0                0          1   \n",
              "74893            804  38.000000                1                0          0   \n",
              "50603            742  37.000000                0                0          1   \n",
              "140305           625  37.732932                0                0          0   \n",
              "2631             630  36.000000                0                0          1   \n",
              "\n",
              "        age_45-54  age_55-64  age_65-74  age_<25  age_>74  \n",
              "23151           0          0          1        0        0  \n",
              "57927           0          0          1        0        0  \n",
              "103698          0          0          0        0        0  \n",
              "8317            0          0          0        0        0  \n",
              "29427           1          0          0        0        0  \n",
              "...           ...        ...        ...      ...      ...  \n",
              "67033           0          0          0        0        0  \n",
              "74893           0          0          0        1        0  \n",
              "50603           0          0          0        0        0  \n",
              "140305          0          0          1        0        0  \n",
              "2631            0          0          0        0        0  \n",
              "\n",
              "[44600 rows x 15 columns]"
            ],
            "text/html": [
              "\n",
              "  <div id=\"df-6c4b2be4-b6fd-4495-9758-dd5e54e11cd9\">\n",
              "    <div class=\"colab-df-container\">\n",
              "      <div>\n",
              "<style scoped>\n",
              "    .dataframe tbody tr th:only-of-type {\n",
              "        vertical-align: middle;\n",
              "    }\n",
              "\n",
              "    .dataframe tbody tr th {\n",
              "        vertical-align: top;\n",
              "    }\n",
              "\n",
              "    .dataframe thead th {\n",
              "        text-align: right;\n",
              "    }\n",
              "</style>\n",
              "<table border=\"1\" class=\"dataframe\">\n",
              "  <thead>\n",
              "    <tr style=\"text-align: right;\">\n",
              "      <th></th>\n",
              "      <th>loan_amount</th>\n",
              "      <th>rate_of_interest</th>\n",
              "      <th>term</th>\n",
              "      <th>property_value</th>\n",
              "      <th>income</th>\n",
              "      <th>credit_score</th>\n",
              "      <th>dtir1</th>\n",
              "      <th>loan_type_type2</th>\n",
              "      <th>loan_type_type3</th>\n",
              "      <th>age_35-44</th>\n",
              "      <th>age_45-54</th>\n",
              "      <th>age_55-64</th>\n",
              "      <th>age_65-74</th>\n",
              "      <th>age_&lt;25</th>\n",
              "      <th>age_&gt;74</th>\n",
              "    </tr>\n",
              "  </thead>\n",
              "  <tbody>\n",
              "    <tr>\n",
              "      <th>23151</th>\n",
              "      <td>296500</td>\n",
              "      <td>4.045482</td>\n",
              "      <td>360.0</td>\n",
              "      <td>4.080000e+05</td>\n",
              "      <td>4740.0</td>\n",
              "      <td>567</td>\n",
              "      <td>32.000000</td>\n",
              "      <td>0</td>\n",
              "      <td>0</td>\n",
              "      <td>0</td>\n",
              "      <td>0</td>\n",
              "      <td>0</td>\n",
              "      <td>1</td>\n",
              "      <td>0</td>\n",
              "      <td>0</td>\n",
              "    </tr>\n",
              "    <tr>\n",
              "      <th>57927</th>\n",
              "      <td>116500</td>\n",
              "      <td>4.500000</td>\n",
              "      <td>360.0</td>\n",
              "      <td>1.980000e+05</td>\n",
              "      <td>2940.0</td>\n",
              "      <td>724</td>\n",
              "      <td>30.000000</td>\n",
              "      <td>0</td>\n",
              "      <td>0</td>\n",
              "      <td>0</td>\n",
              "      <td>0</td>\n",
              "      <td>0</td>\n",
              "      <td>1</td>\n",
              "      <td>0</td>\n",
              "      <td>0</td>\n",
              "    </tr>\n",
              "    <tr>\n",
              "      <th>103698</th>\n",
              "      <td>306500</td>\n",
              "      <td>3.625000</td>\n",
              "      <td>360.0</td>\n",
              "      <td>3.880000e+05</td>\n",
              "      <td>6480.0</td>\n",
              "      <td>797</td>\n",
              "      <td>28.000000</td>\n",
              "      <td>0</td>\n",
              "      <td>0</td>\n",
              "      <td>0</td>\n",
              "      <td>0</td>\n",
              "      <td>0</td>\n",
              "      <td>0</td>\n",
              "      <td>0</td>\n",
              "      <td>0</td>\n",
              "    </tr>\n",
              "    <tr>\n",
              "      <th>8317</th>\n",
              "      <td>576500</td>\n",
              "      <td>3.500000</td>\n",
              "      <td>360.0</td>\n",
              "      <td>5.880000e+05</td>\n",
              "      <td>9000.0</td>\n",
              "      <td>563</td>\n",
              "      <td>39.000000</td>\n",
              "      <td>1</td>\n",
              "      <td>0</td>\n",
              "      <td>0</td>\n",
              "      <td>0</td>\n",
              "      <td>0</td>\n",
              "      <td>0</td>\n",
              "      <td>0</td>\n",
              "      <td>0</td>\n",
              "    </tr>\n",
              "    <tr>\n",
              "      <th>29427</th>\n",
              "      <td>136500</td>\n",
              "      <td>4.750000</td>\n",
              "      <td>360.0</td>\n",
              "      <td>1.680000e+05</td>\n",
              "      <td>2520.0</td>\n",
              "      <td>770</td>\n",
              "      <td>38.000000</td>\n",
              "      <td>0</td>\n",
              "      <td>0</td>\n",
              "      <td>0</td>\n",
              "      <td>1</td>\n",
              "      <td>0</td>\n",
              "      <td>0</td>\n",
              "      <td>0</td>\n",
              "      <td>0</td>\n",
              "    </tr>\n",
              "    <tr>\n",
              "      <th>...</th>\n",
              "      <td>...</td>\n",
              "      <td>...</td>\n",
              "      <td>...</td>\n",
              "      <td>...</td>\n",
              "      <td>...</td>\n",
              "      <td>...</td>\n",
              "      <td>...</td>\n",
              "      <td>...</td>\n",
              "      <td>...</td>\n",
              "      <td>...</td>\n",
              "      <td>...</td>\n",
              "      <td>...</td>\n",
              "      <td>...</td>\n",
              "      <td>...</td>\n",
              "      <td>...</td>\n",
              "    </tr>\n",
              "    <tr>\n",
              "      <th>67033</th>\n",
              "      <td>746500</td>\n",
              "      <td>3.750000</td>\n",
              "      <td>360.0</td>\n",
              "      <td>1.188000e+06</td>\n",
              "      <td>20820.0</td>\n",
              "      <td>835</td>\n",
              "      <td>16.000000</td>\n",
              "      <td>0</td>\n",
              "      <td>0</td>\n",
              "      <td>1</td>\n",
              "      <td>0</td>\n",
              "      <td>0</td>\n",
              "      <td>0</td>\n",
              "      <td>0</td>\n",
              "      <td>0</td>\n",
              "    </tr>\n",
              "    <tr>\n",
              "      <th>74893</th>\n",
              "      <td>126500</td>\n",
              "      <td>3.990000</td>\n",
              "      <td>360.0</td>\n",
              "      <td>1.280000e+05</td>\n",
              "      <td>2100.0</td>\n",
              "      <td>804</td>\n",
              "      <td>38.000000</td>\n",
              "      <td>1</td>\n",
              "      <td>0</td>\n",
              "      <td>0</td>\n",
              "      <td>0</td>\n",
              "      <td>0</td>\n",
              "      <td>0</td>\n",
              "      <td>1</td>\n",
              "      <td>0</td>\n",
              "    </tr>\n",
              "    <tr>\n",
              "      <th>50603</th>\n",
              "      <td>606500</td>\n",
              "      <td>3.875000</td>\n",
              "      <td>360.0</td>\n",
              "      <td>7.680000e+05</td>\n",
              "      <td>12900.0</td>\n",
              "      <td>742</td>\n",
              "      <td>37.000000</td>\n",
              "      <td>0</td>\n",
              "      <td>0</td>\n",
              "      <td>1</td>\n",
              "      <td>0</td>\n",
              "      <td>0</td>\n",
              "      <td>0</td>\n",
              "      <td>0</td>\n",
              "      <td>0</td>\n",
              "    </tr>\n",
              "    <tr>\n",
              "      <th>140305</th>\n",
              "      <td>216500</td>\n",
              "      <td>4.045482</td>\n",
              "      <td>360.0</td>\n",
              "      <td>4.979002e+05</td>\n",
              "      <td>3480.0</td>\n",
              "      <td>625</td>\n",
              "      <td>37.732932</td>\n",
              "      <td>0</td>\n",
              "      <td>0</td>\n",
              "      <td>0</td>\n",
              "      <td>0</td>\n",
              "      <td>0</td>\n",
              "      <td>1</td>\n",
              "      <td>0</td>\n",
              "      <td>0</td>\n",
              "    </tr>\n",
              "    <tr>\n",
              "      <th>2631</th>\n",
              "      <td>246500</td>\n",
              "      <td>3.500000</td>\n",
              "      <td>180.0</td>\n",
              "      <td>2.680000e+05</td>\n",
              "      <td>6240.0</td>\n",
              "      <td>630</td>\n",
              "      <td>36.000000</td>\n",
              "      <td>0</td>\n",
              "      <td>0</td>\n",
              "      <td>1</td>\n",
              "      <td>0</td>\n",
              "      <td>0</td>\n",
              "      <td>0</td>\n",
              "      <td>0</td>\n",
              "      <td>0</td>\n",
              "    </tr>\n",
              "  </tbody>\n",
              "</table>\n",
              "<p>44600 rows × 15 columns</p>\n",
              "</div>\n",
              "      <button class=\"colab-df-convert\" onclick=\"convertToInteractive('df-6c4b2be4-b6fd-4495-9758-dd5e54e11cd9')\"\n",
              "              title=\"Convert this dataframe to an interactive table.\"\n",
              "              style=\"display:none;\">\n",
              "        \n",
              "  <svg xmlns=\"http://www.w3.org/2000/svg\" height=\"24px\"viewBox=\"0 0 24 24\"\n",
              "       width=\"24px\">\n",
              "    <path d=\"M0 0h24v24H0V0z\" fill=\"none\"/>\n",
              "    <path d=\"M18.56 5.44l.94 2.06.94-2.06 2.06-.94-2.06-.94-.94-2.06-.94 2.06-2.06.94zm-11 1L8.5 8.5l.94-2.06 2.06-.94-2.06-.94L8.5 2.5l-.94 2.06-2.06.94zm10 10l.94 2.06.94-2.06 2.06-.94-2.06-.94-.94-2.06-.94 2.06-2.06.94z\"/><path d=\"M17.41 7.96l-1.37-1.37c-.4-.4-.92-.59-1.43-.59-.52 0-1.04.2-1.43.59L10.3 9.45l-7.72 7.72c-.78.78-.78 2.05 0 2.83L4 21.41c.39.39.9.59 1.41.59.51 0 1.02-.2 1.41-.59l7.78-7.78 2.81-2.81c.8-.78.8-2.07 0-2.86zM5.41 20L4 18.59l7.72-7.72 1.47 1.35L5.41 20z\"/>\n",
              "  </svg>\n",
              "      </button>\n",
              "      \n",
              "  <style>\n",
              "    .colab-df-container {\n",
              "      display:flex;\n",
              "      flex-wrap:wrap;\n",
              "      gap: 12px;\n",
              "    }\n",
              "\n",
              "    .colab-df-convert {\n",
              "      background-color: #E8F0FE;\n",
              "      border: none;\n",
              "      border-radius: 50%;\n",
              "      cursor: pointer;\n",
              "      display: none;\n",
              "      fill: #1967D2;\n",
              "      height: 32px;\n",
              "      padding: 0 0 0 0;\n",
              "      width: 32px;\n",
              "    }\n",
              "\n",
              "    .colab-df-convert:hover {\n",
              "      background-color: #E2EBFA;\n",
              "      box-shadow: 0px 1px 2px rgba(60, 64, 67, 0.3), 0px 1px 3px 1px rgba(60, 64, 67, 0.15);\n",
              "      fill: #174EA6;\n",
              "    }\n",
              "\n",
              "    [theme=dark] .colab-df-convert {\n",
              "      background-color: #3B4455;\n",
              "      fill: #D2E3FC;\n",
              "    }\n",
              "\n",
              "    [theme=dark] .colab-df-convert:hover {\n",
              "      background-color: #434B5C;\n",
              "      box-shadow: 0px 1px 3px 1px rgba(0, 0, 0, 0.15);\n",
              "      filter: drop-shadow(0px 1px 2px rgba(0, 0, 0, 0.3));\n",
              "      fill: #FFFFFF;\n",
              "    }\n",
              "  </style>\n",
              "\n",
              "      <script>\n",
              "        const buttonEl =\n",
              "          document.querySelector('#df-6c4b2be4-b6fd-4495-9758-dd5e54e11cd9 button.colab-df-convert');\n",
              "        buttonEl.style.display =\n",
              "          google.colab.kernel.accessAllowed ? 'block' : 'none';\n",
              "\n",
              "        async function convertToInteractive(key) {\n",
              "          const element = document.querySelector('#df-6c4b2be4-b6fd-4495-9758-dd5e54e11cd9');\n",
              "          const dataTable =\n",
              "            await google.colab.kernel.invokeFunction('convertToInteractive',\n",
              "                                                     [key], {});\n",
              "          if (!dataTable) return;\n",
              "\n",
              "          const docLinkHtml = 'Like what you see? Visit the ' +\n",
              "            '<a target=\"_blank\" href=https://colab.research.google.com/notebooks/data_table.ipynb>data table notebook</a>'\n",
              "            + ' to learn more about interactive tables.';\n",
              "          element.innerHTML = '';\n",
              "          dataTable['output_type'] = 'display_data';\n",
              "          await google.colab.output.renderOutput(dataTable, element);\n",
              "          const docLink = document.createElement('div');\n",
              "          docLink.innerHTML = docLinkHtml;\n",
              "          element.appendChild(docLink);\n",
              "        }\n",
              "      </script>\n",
              "    </div>\n",
              "  </div>\n",
              "  "
            ]
          },
          "metadata": {},
          "execution_count": 45
        }
      ]
    },
    {
      "cell_type": "code",
      "source": [
        "X_test.shape"
      ],
      "metadata": {
        "colab": {
          "base_uri": "https://localhost:8080/"
        },
        "id": "BrzcspIOPN9h",
        "outputId": "f39e984e-c0ae-443b-b479-7f65e1700c25"
      },
      "execution_count": 46,
      "outputs": [
        {
          "output_type": "execute_result",
          "data": {
            "text/plain": [
              "(44600, 15)"
            ]
          },
          "metadata": {},
          "execution_count": 46
        }
      ]
    },
    {
      "cell_type": "code",
      "source": [
        "y_train"
      ],
      "metadata": {
        "colab": {
          "base_uri": "https://localhost:8080/"
        },
        "id": "9d51vm5NPPdK",
        "outputId": "5179f7e6-8299-4150-e9bf-57abe63295c5"
      },
      "execution_count": 47,
      "outputs": [
        {
          "output_type": "execute_result",
          "data": {
            "text/plain": [
              "96393     0\n",
              "125680    0\n",
              "143206    0\n",
              "70180     0\n",
              "26531     0\n",
              "         ..\n",
              "76446     0\n",
              "110835    0\n",
              "21810     0\n",
              "10591     0\n",
              "25820     1\n",
              "Name: status, Length: 104064, dtype: int64"
            ]
          },
          "metadata": {},
          "execution_count": 47
        }
      ]
    },
    {
      "cell_type": "code",
      "source": [
        "X_train.shape"
      ],
      "metadata": {
        "colab": {
          "base_uri": "https://localhost:8080/"
        },
        "id": "lvm5I9-9PR16",
        "outputId": "71130474-0e98-45f8-9728-9411eaa7edee"
      },
      "execution_count": 48,
      "outputs": [
        {
          "output_type": "execute_result",
          "data": {
            "text/plain": [
              "(104064, 15)"
            ]
          },
          "metadata": {},
          "execution_count": 48
        }
      ]
    },
    {
      "cell_type": "code",
      "source": [
        "y_train.shape"
      ],
      "metadata": {
        "colab": {
          "base_uri": "https://localhost:8080/"
        },
        "id": "5PcJHJbHPVbZ",
        "outputId": "52aaf250-8aeb-4d14-ca3c-28b46613c0b6"
      },
      "execution_count": 49,
      "outputs": [
        {
          "output_type": "execute_result",
          "data": {
            "text/plain": [
              "(104064,)"
            ]
          },
          "metadata": {},
          "execution_count": 49
        }
      ]
    },
    {
      "cell_type": "code",
      "source": [
        "y_train.value_counts()"
      ],
      "metadata": {
        "colab": {
          "base_uri": "https://localhost:8080/"
        },
        "id": "GRwvD6gnPXCh",
        "outputId": "6a6fdbbe-f247-49b3-bcc6-1ebfe69a6ded"
      },
      "execution_count": 50,
      "outputs": [
        {
          "output_type": "execute_result",
          "data": {
            "text/plain": [
              "0    78369\n",
              "1    25695\n",
              "Name: status, dtype: int64"
            ]
          },
          "metadata": {},
          "execution_count": 50
        }
      ]
    },
    {
      "cell_type": "code",
      "source": [
        "sm = SMOTE()\n",
        "X_train, y_train = sm.fit_resample(X_train, y_train)"
      ],
      "metadata": {
        "id": "T_ukj64wPYdJ"
      },
      "execution_count": 51,
      "outputs": []
    },
    {
      "cell_type": "code",
      "source": [
        "y_train.value_counts()"
      ],
      "metadata": {
        "colab": {
          "base_uri": "https://localhost:8080/"
        },
        "id": "JSGEz2_4Q35h",
        "outputId": "7f14804d-6d86-47e9-e3ce-15e4ecc8c1dc"
      },
      "execution_count": 52,
      "outputs": [
        {
          "output_type": "execute_result",
          "data": {
            "text/plain": [
              "0    78369\n",
              "1    78369\n",
              "Name: status, dtype: int64"
            ]
          },
          "metadata": {},
          "execution_count": 52
        }
      ]
    },
    {
      "cell_type": "code",
      "source": [
        "model=DecisionTreeClassifier()\n",
        "model.fit(X_train,y_train)\n",
        "y_pred=model.predict(X_test)\n",
        "\n",
        "print(confusion_matrix(y_test,y_pred))\n",
        "print(accuracy_score(y_test,y_pred))"
      ],
      "metadata": {
        "colab": {
          "base_uri": "https://localhost:8080/"
        },
        "id": "CF43VY-aRWjp",
        "outputId": "2053b1c4-4056-4a84-befb-d714ff32faaf"
      },
      "execution_count": 53,
      "outputs": [
        {
          "output_type": "stream",
          "name": "stdout",
          "text": [
            "[[33603    55]\n",
            " [   26 10916]]\n",
            "0.9981838565022422\n"
          ]
        }
      ]
    },
    {
      "cell_type": "code",
      "source": [
        "from yellowbrick.classifier import (\n",
        "    ConfusionMatrix,\n",
        "    ROCAUC\n",
        ")"
      ],
      "metadata": {
        "id": "jkpm6naTS0T_"
      },
      "execution_count": 54,
      "outputs": []
    },
    {
      "cell_type": "code",
      "source": [
        "mapping = {0: \"Não Aprovado\", 1: \"Aprovado\"}\n",
        "fig, ax = plt.subplots(figsize=(6, 6))\n",
        "cm_viz = ConfusionMatrix(\n",
        "    model,\n",
        "    classes=[\"Não Aprovado\", \"Aprovado\"],\n",
        "    label_encoder=mapping,\n",
        ")\n",
        "cm_viz.score(X_test, y_test)\n",
        "cm_viz.poof()"
      ],
      "metadata": {
        "colab": {
          "base_uri": "https://localhost:8080/",
          "height": 489
        },
        "id": "2hppNepQSw8S",
        "outputId": "d93f41e2-4b9d-444d-d5a3-39b8c2c83ad2"
      },
      "execution_count": 55,
      "outputs": [
        {
          "output_type": "stream",
          "name": "stderr",
          "text": [
            "/usr/local/lib/python3.8/dist-packages/yellowbrick/classifier/base.py:232: YellowbrickWarning: could not determine class_counts_ from previously fitted classifier\n",
            "  warnings.warn(\n"
          ]
        },
        {
          "output_type": "display_data",
          "data": {
            "text/plain": [
              "<Figure size 432x432 with 1 Axes>"
            ],
            "image/png": "[encoded data removed]"
          },
          "metadata": {}
        },
        {
          "output_type": "execute_result",
          "data": {
            "text/plain": [
              "<matplotlib.axes._subplots.AxesSubplot at 0x7fe0d9b75f10>"
            ]
          },
          "metadata": {},
          "execution_count": 55
        }
      ]
    },
    {
      "cell_type": "code",
      "source": [
        "from sklearn.metrics import (\n",
        "    roc_auc_score\n",
        ")"
      ],
      "metadata": {
        "id": "Gki4hgzATSgQ"
      },
      "execution_count": 56,
      "outputs": []
    },
    {
      "cell_type": "code",
      "source": [
        "y_pred = model.predict(X_test)\n",
        "roc_auc_score(y_test, y_pred)"
      ],
      "metadata": {
        "colab": {
          "base_uri": "https://localhost:8080/"
        },
        "id": "p6vq1bZQTLR4",
        "outputId": "ba1c13a0-a5ee-4453-90a9-095547b4cf23"
      },
      "execution_count": 57,
      "outputs": [
        {
          "output_type": "execute_result",
          "data": {
            "text/plain": [
              "0.9979948753717479"
            ]
          },
          "metadata": {},
          "execution_count": 57
        }
      ]
    },
    {
      "cell_type": "code",
      "source": [
        "fig, ax = plt.subplots(figsize=(6, 6))\n",
        "roc_viz = ROCAUC(model)\n",
        "roc_viz.fit(X_train, y_train)\n",
        "roc_viz.score(X_test, y_test)\n",
        "roc_viz.poof()"
      ],
      "metadata": {
        "colab": {
          "base_uri": "https://localhost:8080/",
          "height": 455
        },
        "id": "Pxi8UIQATN5q",
        "outputId": "81fbac06-d887-423d-cefc-475b0a2ffb8b"
      },
      "execution_count": 58,
      "outputs": [
        {
          "output_type": "stream",
          "name": "stderr",
          "text": [
            "/usr/local/lib/python3.8/dist-packages/sklearn/base.py:450: UserWarning: X does not have valid feature names, but DecisionTreeClassifier was fitted with feature names\n",
            "  warnings.warn(\n"
          ]
        },
        {
          "output_type": "display_data",
          "data": {
            "text/plain": [
              "<Figure size 432x432 with 1 Axes>"
            ],
            "image/png": "[encoded data removed]"
          },
          "metadata": {}
        },
        {
          "output_type": "execute_result",
          "data": {
            "text/plain": [
              "<matplotlib.axes._subplots.AxesSubplot at 0x7fe0d9b754c0>"
            ]
          },
          "metadata": {},
          "execution_count": 58
        }
      ]
    },
    {
      "cell_type": "code",
      "source": [
        "from sklearn.model_selection import (\n",
        "    StratifiedKFold\n",
        ")\n",
        "from yellowbrick.model_selection import (\n",
        "    LearningCurve\n",
        ")"
      ],
      "metadata": {
        "id": "zW1IXB_vTfMa"
      },
      "execution_count": 59,
      "outputs": []
    },
    {
      "cell_type": "code",
      "source": [
        "import numpy as np\n",
        "fig, ax = plt.subplots(figsize=(6, 4))\n",
        "cv = StratifiedKFold(12)\n",
        "sizes = np.linspace(0.3, 1.0, 10)\n",
        "lc_viz = LearningCurve(\n",
        "    model,\n",
        "    cv=cv,\n",
        "    train_sizes=sizes,\n",
        "    scoring=\"f1_weighted\",\n",
        "    n_jobs=4,\n",
        "    ax=ax,\n",
        ")\n",
        "lc_viz.fit(X, y)\n",
        "lc_viz.poof()"
      ],
      "metadata": {
        "colab": {
          "base_uri": "https://localhost:8080/",
          "height": 311
        },
        "id": "8zxJ3YJrTZ1Q",
        "outputId": "b4623c0b-bf2c-4629-ef19-c46f8f2eef36"
      },
      "execution_count": 60,
      "outputs": [
        {
          "output_type": "display_data",
          "data": {
            "text/plain": [
              "<Figure size 432x288 with 1 Axes>"
            ],
            "image/png": "[encoded data removed]"
          },
          "metadata": {}
        },
        {
          "output_type": "execute_result",
          "data": {
            "text/plain": [
              "<matplotlib.axes._subplots.AxesSubplot at 0x7fe0d758dbb0>"
            ]
          },
          "metadata": {},
          "execution_count": 60
        }
      ]
    },
    {
      "cell_type": "markdown",
      "source": [
        "### Exportação do modelo\n",
        "\n",
        "Decidimos exportar o modelo para ser utililzado posteriormente"
      ],
      "metadata": {
        "id": "1_BPQGbmTuYX"
      }
    },
    {
      "cell_type": "code",
      "source": [
        "import pickle\n",
        "\n",
        "def dumpModel(model, filename):\n",
        "  pickle.dump(model, open(filename, 'wb'))"
      ],
      "metadata": {
        "id": "CShMcZKeT05P"
      },
      "execution_count": 61,
      "outputs": []
    },
    {
      "cell_type": "code",
      "source": [
        "X_test.columns"
      ],
      "metadata": {
        "colab": {
          "base_uri": "https://localhost:8080/"
        },
        "id": "LkM3b1__T7mq",
        "outputId": "0e60382d-7071-477b-e817-2c192c584593"
      },
      "execution_count": 62,
      "outputs": [
        {
          "output_type": "execute_result",
          "data": {
            "text/plain": [
              "Index(['loan_amount', 'rate_of_interest', 'term', 'property_value', 'income',\n",
              "       'credit_score', 'dtir1', 'loan_type_type2', 'loan_type_type3',\n",
              "       'age_35-44', 'age_45-54', 'age_55-64', 'age_65-74', 'age_<25',\n",
              "       'age_>74'],\n",
              "      dtype='object')"
            ]
          },
          "metadata": {},
          "execution_count": 62
        }
      ]
    },
    {
      "cell_type": "code",
      "source": [
        "filename = 'loan_decisiontreeclassifier.sav'\n",
        "\n",
        "dumpModel(model, filename) # Aqui exportamos o nosso modelo para utilizar no Flask"
      ],
      "metadata": {
        "id": "JbJwjTuJT914"
      },
      "execution_count": 63,
      "outputs": []
    },
    {
      "cell_type": "markdown",
      "source": [
        "### Teste do arquivo exportado\n",
        "\n",
        "Fizemos um teste para garantir que está tudo correto com a execução do modelo"
      ],
      "metadata": {
        "id": "Aycfl-PHUV9H"
      }
    },
    {
      "cell_type": "code",
      "source": [
        "loaded_model = pickle.load(open(filename, 'rb'))\n",
        "y_pred = loaded_model.predict(X_test)"
      ],
      "metadata": {
        "id": "AS9qjLphUazS"
      },
      "execution_count": 64,
      "outputs": []
    },
    {
      "cell_type": "code",
      "source": [
        "result = roc_auc_score(y_test, y_pred)\n",
        "\n",
        "print(\n",
        "    f'Pontuação do AUC: ' + \\\n",
        "    f'{result*100:.2f}'\n",
        ")"
      ],
      "metadata": {
        "colab": {
          "base_uri": "https://localhost:8080/"
        },
        "id": "cWNM_codUcqD",
        "outputId": "0c2ac889-f187-44d6-eadd-528375f4e749"
      },
      "execution_count": 65,
      "outputs": [
        {
          "output_type": "stream",
          "name": "stdout",
          "text": [
            "Pontuação do AUC: 99.80\n"
          ]
        }
      ]
    }
  ]
}